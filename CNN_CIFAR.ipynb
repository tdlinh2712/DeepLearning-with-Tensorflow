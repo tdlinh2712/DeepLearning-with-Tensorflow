{
  "nbformat": 4,
  "nbformat_minor": 0,
  "metadata": {
    "colab": {
      "name": "CNN_CIFAR.ipynb",
      "provenance": [],
      "collapsed_sections": [],
      "include_colab_link": true
    },
    "kernelspec": {
      "name": "python3",
      "display_name": "Python 3"
    },
    "language_info": {
      "name": "python"
    },
    "accelerator": "GPU"
  },
  "cells": [
    {
      "cell_type": "markdown",
      "metadata": {
        "id": "view-in-github",
        "colab_type": "text"
      },
      "source": [
        "<a href=\"https://colab.research.google.com/github/tdlinh2712/DeepLearning-with-Tensorflow/blob/master/CNN_CIFAR.ipynb\" target=\"_parent\"><img src=\"https://colab.research.google.com/assets/colab-badge.svg\" alt=\"Open In Colab\"/></a>"
      ]
    },
    {
      "cell_type": "markdown",
      "source": [
        "# Linh's experiment\n"
      ],
      "metadata": {
        "id": "RziwxuMFGI6E"
      }
    },
    {
      "cell_type": "code",
      "source": [
        " import pandas as pd\n",
        " import numpy as np\n",
        " import matplotlib.pyplot as plt\n",
        " import tensorflow as tf"
      ],
      "metadata": {
        "id": "96iF6390GOGE"
      },
      "execution_count": 3,
      "outputs": []
    },
    {
      "cell_type": "code",
      "source": [
        "(x_train, y_train), (x_test, y_test) = tf.keras.datasets.cifar10.load_data()\n",
        "\n",
        "x_train, x_test = x_train/255.0, x_test / 255.0"
      ],
      "metadata": {
        "id": "vC3Ve5IrHaAV"
      },
      "execution_count": 4,
      "outputs": []
    },
    {
      "cell_type": "code",
      "source": [
        "x_train.shape"
      ],
      "metadata": {
        "colab": {
          "base_uri": "https://localhost:8080/"
        },
        "id": "hZ8IUYp4je6B",
        "outputId": "e7efb791-fdfe-4d97-a445-a4794ad1f04c"
      },
      "execution_count": 5,
      "outputs": [
        {
          "output_type": "execute_result",
          "data": {
            "text/plain": [
              "(50000, 32, 32, 3)"
            ]
          },
          "metadata": {},
          "execution_count": 5
        }
      ]
    },
    {
      "cell_type": "code",
      "source": [
        "plt.imshow(x_test[10])"
      ],
      "metadata": {
        "colab": {
          "base_uri": "https://localhost:8080/",
          "height": 283
        },
        "id": "N4-Mb5xEHjY7",
        "outputId": "ddc6ee6e-5a02-4e9d-c2d8-ce31e594aee0"
      },
      "execution_count": 6,
      "outputs": [
        {
          "output_type": "execute_result",
          "data": {
            "text/plain": [
              "<matplotlib.image.AxesImage at 0x7fd5be141cd0>"
            ]
          },
          "metadata": {},
          "execution_count": 6
        },
        {
          "output_type": "display_data",
          "data": {
            "text/plain": [
              "<Figure size 432x288 with 1 Axes>"
            ],
            "image/png": "[encoded data removed]"
          },
          "metadata": {
            "needs_background": "light"
          }
        }
      ]
    },
    {
      "cell_type": "code",
      "source": [
        "y_train.shape"
      ],
      "metadata": {
        "colab": {
          "base_uri": "https://localhost:8080/"
        },
        "id": "Wq1QvNYMj1va",
        "outputId": "75c48675-9f8f-4916-da72-1b7fa8187b7d"
      },
      "execution_count": 7,
      "outputs": [
        {
          "output_type": "execute_result",
          "data": {
            "text/plain": [
              "(50000, 1)"
            ]
          },
          "metadata": {},
          "execution_count": 7
        }
      ]
    },
    {
      "cell_type": "code",
      "source": [
        "y_train, y_test = y_train.flatten(), y_test.flatten()\n",
        "print(\"y_train.shape: \", y_train.shape)"
      ],
      "metadata": {
        "id": "0E-Lf_SqIULD",
        "colab": {
          "base_uri": "https://localhost:8080/"
        },
        "outputId": "74c06487-37d7-4f38-d72f-21dfb029b61a"
      },
      "execution_count": 8,
      "outputs": [
        {
          "output_type": "stream",
          "name": "stdout",
          "text": [
            "y_train.shape:  (50000,)\n"
          ]
        }
      ]
    },
    {
      "cell_type": "code",
      "source": [
        "x_train.shape"
      ],
      "metadata": {
        "colab": {
          "base_uri": "https://localhost:8080/"
        },
        "id": "gJ9FR1PqMlMG",
        "outputId": "848a8b6e-cae8-4805-c8bc-2b547aa74c04"
      },
      "execution_count": 9,
      "outputs": [
        {
          "output_type": "execute_result",
          "data": {
            "text/plain": [
              "(50000, 32, 32, 3)"
            ]
          },
          "metadata": {},
          "execution_count": 9
        }
      ]
    },
    {
      "cell_type": "code",
      "source": [
        "labels = np.unique(y_train)\n",
        "K = len(labels)"
      ],
      "metadata": {
        "id": "Xsc8KPLSKM7P"
      },
      "execution_count": 10,
      "outputs": []
    },
    {
      "cell_type": "code",
      "source": [
        "from tensorflow.keras.layers import Conv2D, Flatten, Dense, Input, Dropout, BatchNormalization, MaxPooling2D\n",
        "from tensorflow.keras import Model"
      ],
      "metadata": {
        "id": "utLMNNu2KpVG"
      },
      "execution_count": 11,
      "outputs": []
    },
    {
      "cell_type": "code",
      "source": [
        "i = Input(shape=x_train[0].shape)\n",
        "\n",
        "x = Conv2D(32, (3,3), activation='relu', padding='same')(i)\n",
        "x = BatchNormalization()(x)\n",
        "x = Conv2D(32, (3,3), activation='relu', padding='same')(x)\n",
        "x = BatchNormalization()(x)\n",
        "x = MaxPooling2D((2,2))(x)\n",
        "# x = Dropout(0.2)(x)\n",
        "x = Conv2D(64, (3,3), activation='relu', padding='same')(x)\n",
        "x = BatchNormalization()(x)\n",
        "x = Conv2D(64, (3,3), activation='relu', padding='same')(x)\n",
        "x = BatchNormalization()(x)\n",
        "x = MaxPooling2D((2,2))(x)\n",
        "# x = Dropout(0.2)(x)\n",
        "x = Conv2D(128, (3,3), activation='relu', padding='same')(x)\n",
        "x = BatchNormalization()(x)\n",
        "x = Conv2D(128, (3,3), activation='relu', padding='same')(x)\n",
        "x = BatchNormalization()(x)\n",
        "x = MaxPooling2D((2,2))(x)\n",
        "# x = Dropout(0.2)(x)\n",
        "\n",
        "#x = GlobalMaxPooling2D()(x)\n",
        "x = Flatten()(x)\n",
        "x = Dropout(0.2)(x)\n",
        "x = Dense(1024, activation='relu')(x)\n",
        "x = Dropout(0.2)(x)\n",
        "x = Dense(K, activation='softmax')(x)\n",
        "\n",
        "model = Model(i, x)"
      ],
      "metadata": {
        "id": "TWwcb5AXIy8P"
      },
      "execution_count": 12,
      "outputs": []
    },
    {
      "cell_type": "code",
      "source": [
        "# compile and fit\n",
        "model.compile(optimizer='adam',\n",
        "              loss = 'sparse_categorical_crossentropy',\n",
        "              metrics=['accuracy'])\n",
        "r = model.fit(x_train, y_train, validation_data =(x_test, y_test), epochs=50)"
      ],
      "metadata": {
        "colab": {
          "base_uri": "https://localhost:8080/"
        },
        "id": "QnzxKBS_KmH3",
        "outputId": "3fbe637f-c0aa-4162-a133-ee23a1a28c17"
      },
      "execution_count": 13,
      "outputs": [
        {
          "output_type": "stream",
          "name": "stdout",
          "text": [
            "Epoch 1/50\n",
            "1563/1563 [==============================] - 14s 7ms/step - loss: 1.3202 - accuracy: 0.5514 - val_loss: 0.9957 - val_accuracy: 0.6524\n",
            "Epoch 2/50\n",
            "1563/1563 [==============================] - 12s 8ms/step - loss: 0.8457 - accuracy: 0.7046 - val_loss: 0.8883 - val_accuracy: 0.7079\n",
            "Epoch 3/50\n",
            "1563/1563 [==============================] - 17s 11ms/step - loss: 0.6922 - accuracy: 0.7593 - val_loss: 0.7507 - val_accuracy: 0.7411\n",
            "Epoch 4/50\n",
            "1563/1563 [==============================] - 14s 9ms/step - loss: 0.5881 - accuracy: 0.7984 - val_loss: 0.7417 - val_accuracy: 0.7576\n",
            "Epoch 5/50\n",
            "1563/1563 [==============================] - 14s 9ms/step - loss: 0.5037 - accuracy: 0.8293 - val_loss: 0.6622 - val_accuracy: 0.7860\n",
            "Epoch 6/50\n",
            "1563/1563 [==============================] - 16s 10ms/step - loss: 0.4240 - accuracy: 0.8533 - val_loss: 0.6072 - val_accuracy: 0.8041\n",
            "Epoch 7/50\n",
            "1563/1563 [==============================] - 14s 9ms/step - loss: 0.3618 - accuracy: 0.8756 - val_loss: 0.5850 - val_accuracy: 0.8205\n",
            "Epoch 8/50\n",
            "1563/1563 [==============================] - 13s 8ms/step - loss: 0.3139 - accuracy: 0.8916 - val_loss: 0.5989 - val_accuracy: 0.8199\n",
            "Epoch 9/50\n",
            "1563/1563 [==============================] - 12s 7ms/step - loss: 0.2629 - accuracy: 0.9086 - val_loss: 0.6102 - val_accuracy: 0.8152\n",
            "Epoch 10/50\n",
            "1563/1563 [==============================] - 14s 9ms/step - loss: 0.2258 - accuracy: 0.9226 - val_loss: 0.6413 - val_accuracy: 0.8207\n",
            "Epoch 11/50\n",
            "1563/1563 [==============================] - 12s 8ms/step - loss: 0.2047 - accuracy: 0.9306 - val_loss: 0.7787 - val_accuracy: 0.7993\n",
            "Epoch 12/50\n",
            "1563/1563 [==============================] - 13s 8ms/step - loss: 0.1806 - accuracy: 0.9375 - val_loss: 0.7042 - val_accuracy: 0.8106\n",
            "Epoch 13/50\n",
            "1563/1563 [==============================] - 16s 10ms/step - loss: 0.1595 - accuracy: 0.9454 - val_loss: 0.7227 - val_accuracy: 0.8145\n",
            "Epoch 14/50\n",
            "1563/1563 [==============================] - 17s 11ms/step - loss: 0.1524 - accuracy: 0.9497 - val_loss: 0.7009 - val_accuracy: 0.8171\n",
            "Epoch 15/50\n",
            "1563/1563 [==============================] - 14s 9ms/step - loss: 0.1310 - accuracy: 0.9561 - val_loss: 0.6786 - val_accuracy: 0.8310\n",
            "Epoch 16/50\n",
            "1563/1563 [==============================] - 11s 7ms/step - loss: 0.1325 - accuracy: 0.9555 - val_loss: 0.6744 - val_accuracy: 0.8273\n",
            "Epoch 17/50\n",
            "1563/1563 [==============================] - 11s 7ms/step - loss: 0.1160 - accuracy: 0.9617 - val_loss: 0.7438 - val_accuracy: 0.8275\n",
            "Epoch 18/50\n",
            "1563/1563 [==============================] - 14s 9ms/step - loss: 0.1110 - accuracy: 0.9640 - val_loss: 0.7071 - val_accuracy: 0.8346\n",
            "Epoch 19/50\n",
            "1563/1563 [==============================] - 12s 8ms/step - loss: 0.1064 - accuracy: 0.9645 - val_loss: 0.7564 - val_accuracy: 0.8323\n",
            "Epoch 20/50\n",
            "1563/1563 [==============================] - 15s 9ms/step - loss: 0.1006 - accuracy: 0.9677 - val_loss: 0.7134 - val_accuracy: 0.8240\n",
            "Epoch 21/50\n",
            "1563/1563 [==============================] - 11s 7ms/step - loss: 0.0941 - accuracy: 0.9689 - val_loss: 0.7481 - val_accuracy: 0.8319\n",
            "Epoch 22/50\n",
            "1563/1563 [==============================] - 11s 7ms/step - loss: 0.0855 - accuracy: 0.9718 - val_loss: 0.8061 - val_accuracy: 0.8330\n",
            "Epoch 23/50\n",
            "1563/1563 [==============================] - 11s 7ms/step - loss: 0.0879 - accuracy: 0.9707 - val_loss: 0.7869 - val_accuracy: 0.8263\n",
            "Epoch 24/50\n",
            "1563/1563 [==============================] - 11s 7ms/step - loss: 0.0807 - accuracy: 0.9731 - val_loss: 0.7368 - val_accuracy: 0.8312\n",
            "Epoch 25/50\n",
            "1563/1563 [==============================] - 11s 7ms/step - loss: 0.0770 - accuracy: 0.9743 - val_loss: 0.7756 - val_accuracy: 0.8278\n",
            "Epoch 26/50\n",
            "1563/1563 [==============================] - 11s 7ms/step - loss: 0.0773 - accuracy: 0.9755 - val_loss: 0.9467 - val_accuracy: 0.8261\n",
            "Epoch 27/50\n",
            "1563/1563 [==============================] - 11s 7ms/step - loss: 0.0697 - accuracy: 0.9773 - val_loss: 0.8401 - val_accuracy: 0.8313\n",
            "Epoch 28/50\n",
            "1563/1563 [==============================] - 11s 7ms/step - loss: 0.0657 - accuracy: 0.9784 - val_loss: 0.7858 - val_accuracy: 0.8355\n",
            "Epoch 29/50\n",
            "1563/1563 [==============================] - 11s 7ms/step - loss: 0.0674 - accuracy: 0.9785 - val_loss: 0.7822 - val_accuracy: 0.8411\n",
            "Epoch 30/50\n",
            "1563/1563 [==============================] - 12s 7ms/step - loss: 0.0626 - accuracy: 0.9793 - val_loss: 0.8489 - val_accuracy: 0.8375\n",
            "Epoch 31/50\n",
            "1563/1563 [==============================] - 11s 7ms/step - loss: 0.0649 - accuracy: 0.9792 - val_loss: 0.8003 - val_accuracy: 0.8337\n",
            "Epoch 32/50\n",
            "1563/1563 [==============================] - 11s 7ms/step - loss: 0.0609 - accuracy: 0.9798 - val_loss: 0.7416 - val_accuracy: 0.8340\n",
            "Epoch 33/50\n",
            "1563/1563 [==============================] - 11s 7ms/step - loss: 0.0602 - accuracy: 0.9805 - val_loss: 0.8231 - val_accuracy: 0.8358\n",
            "Epoch 34/50\n",
            "1563/1563 [==============================] - 10s 7ms/step - loss: 0.0540 - accuracy: 0.9824 - val_loss: 0.8109 - val_accuracy: 0.8335\n",
            "Epoch 35/50\n",
            "1563/1563 [==============================] - 11s 7ms/step - loss: 0.0565 - accuracy: 0.9820 - val_loss: 0.9106 - val_accuracy: 0.8296\n",
            "Epoch 36/50\n",
            "1563/1563 [==============================] - 11s 7ms/step - loss: 0.0527 - accuracy: 0.9829 - val_loss: 0.8977 - val_accuracy: 0.8196\n",
            "Epoch 37/50\n",
            "1563/1563 [==============================] - 10s 7ms/step - loss: 0.0530 - accuracy: 0.9824 - val_loss: 0.7989 - val_accuracy: 0.8423\n",
            "Epoch 38/50\n",
            "1563/1563 [==============================] - 11s 7ms/step - loss: 0.0524 - accuracy: 0.9833 - val_loss: 0.8039 - val_accuracy: 0.8372\n",
            "Epoch 39/50\n",
            "1563/1563 [==============================] - 11s 7ms/step - loss: 0.0464 - accuracy: 0.9851 - val_loss: 0.7963 - val_accuracy: 0.8416\n",
            "Epoch 40/50\n",
            "1563/1563 [==============================] - 10s 7ms/step - loss: 0.0507 - accuracy: 0.9837 - val_loss: 0.8237 - val_accuracy: 0.8336\n",
            "Epoch 41/50\n",
            "1563/1563 [==============================] - 11s 7ms/step - loss: 0.0478 - accuracy: 0.9848 - val_loss: 0.8974 - val_accuracy: 0.8386\n",
            "Epoch 42/50\n",
            "1563/1563 [==============================] - 10s 7ms/step - loss: 0.0476 - accuracy: 0.9841 - val_loss: 0.8472 - val_accuracy: 0.8390\n",
            "Epoch 43/50\n",
            "1563/1563 [==============================] - 11s 7ms/step - loss: 0.0443 - accuracy: 0.9858 - val_loss: 0.8173 - val_accuracy: 0.8414\n",
            "Epoch 44/50\n",
            "1563/1563 [==============================] - 11s 7ms/step - loss: 0.0468 - accuracy: 0.9853 - val_loss: 0.8361 - val_accuracy: 0.8445\n",
            "Epoch 45/50\n",
            "1563/1563 [==============================] - 11s 7ms/step - loss: 0.0430 - accuracy: 0.9863 - val_loss: 0.8468 - val_accuracy: 0.8317\n",
            "Epoch 46/50\n",
            "1563/1563 [==============================] - 11s 7ms/step - loss: 0.0441 - accuracy: 0.9861 - val_loss: 0.8696 - val_accuracy: 0.8410\n",
            "Epoch 47/50\n",
            "1563/1563 [==============================] - 11s 7ms/step - loss: 0.0468 - accuracy: 0.9847 - val_loss: 0.9514 - val_accuracy: 0.8378\n",
            "Epoch 48/50\n",
            "1563/1563 [==============================] - 10s 7ms/step - loss: 0.0410 - accuracy: 0.9871 - val_loss: 0.8556 - val_accuracy: 0.8418\n",
            "Epoch 49/50\n",
            "1563/1563 [==============================] - 10s 7ms/step - loss: 0.0442 - accuracy: 0.9854 - val_loss: 1.0220 - val_accuracy: 0.8306\n",
            "Epoch 50/50\n",
            "1563/1563 [==============================] - 11s 7ms/step - loss: 0.0397 - accuracy: 0.9875 - val_loss: 0.9462 - val_accuracy: 0.8440\n"
          ]
        }
      ]
    },
    {
      "cell_type": "code",
      "source": [
        "# fit with data augmentation\n",
        "batch_size = 32\n",
        "data_generator = tf.keras.preprocessing.image.ImageDataGenerator(\n",
        "    width_shift_range=0.1,\n",
        "    height_shift_range=0.1,\n",
        "    horizontal_flip=True)\n",
        "train_generator = data_generator.flow(x_train, y_train, batch_size)\n",
        "steps_per_epoch = x_train.shape[0]\n",
        "r = model.fit_generator(train_generator, validation_data=(x_test, y_test),\n",
        "                        steps_per_epoch= steps_per_epoch,\n",
        "                        epochs=50)\n"
      ],
      "metadata": {
        "id": "yvdPPBsmrwv8"
      },
      "execution_count": null,
      "outputs": []
    },
    {
      "cell_type": "code",
      "source": [
        "plt.plot(r.history['loss'], label='loss')\n",
        "plt.plot(r.history['val_loss'], label='val_loss')\n",
        "plt.legend()"
      ],
      "metadata": {
        "colab": {
          "base_uri": "https://localhost:8080/",
          "height": 282
        },
        "id": "-p39cyP8NLGF",
        "outputId": "51513c7c-7717-4a3e-c13f-dd19847fb487"
      },
      "execution_count": 14,
      "outputs": [
        {
          "output_type": "execute_result",
          "data": {
            "text/plain": [
              "<matplotlib.legend.Legend at 0x7fd54022d350>"
            ]
          },
          "metadata": {},
          "execution_count": 14
        },
        {
          "output_type": "display_data",
          "data": {
            "text/plain": [
              "<Figure size 432x288 with 1 Axes>"
            ],
            "image/png": "[encoded data removed]"
          },
          "metadata": {
            "needs_background": "light"
          }
        }
      ]
    },
    {
      "cell_type": "code",
      "source": [
        "plt.plot(r.history['accuracy'], label='accuracy')\n",
        "plt.plot(r.history['val_accuracy'], label='val_accuracy')\n",
        "plt.legend()"
      ],
      "metadata": {
        "colab": {
          "base_uri": "https://localhost:8080/",
          "height": 282
        },
        "id": "wlkJRxrjNV17",
        "outputId": "c4dcab88-cd10-4d4f-cd5d-72fc0895025d"
      },
      "execution_count": 15,
      "outputs": [
        {
          "output_type": "execute_result",
          "data": {
            "text/plain": [
              "<matplotlib.legend.Legend at 0x7fd52cf8f2d0>"
            ]
          },
          "metadata": {},
          "execution_count": 15
        },
        {
          "output_type": "display_data",
          "data": {
            "text/plain": [
              "<Figure size 432x288 with 1 Axes>"
            ],
            "image/png": "[encoded data removed]"
          },
          "metadata": {
            "needs_background": "light"
          }
        }
      ]
    },
    {
      "cell_type": "code",
      "source": [
        "print(model.evaluate(x_test, y_test))"
      ],
      "metadata": {
        "colab": {
          "base_uri": "https://localhost:8080/"
        },
        "id": "0nFGKM3oNX7u",
        "outputId": "68a0a7c5-0d40-468d-a8b5-bbae381deeef"
      },
      "execution_count": 16,
      "outputs": [
        {
          "output_type": "stream",
          "name": "stdout",
          "text": [
            "313/313 [==============================] - 1s 4ms/step - loss: 0.9462 - accuracy: 0.8440\n",
            "[0.9462394714355469, 0.843999981880188]\n"
          ]
        }
      ]
    },
    {
      "cell_type": "code",
      "source": [
        "print(model.layers)"
      ],
      "metadata": {
        "colab": {
          "base_uri": "https://localhost:8080/"
        },
        "id": "MN1w3I7ENZtv",
        "outputId": "10613ca7-9d40-44ab-ae97-0a6f8ccd56b7"
      },
      "execution_count": 17,
      "outputs": [
        {
          "output_type": "stream",
          "name": "stdout",
          "text": [
            "[<keras.engine.input_layer.InputLayer object at 0x7fd5bdc6eb10>, <keras.layers.convolutional.Conv2D object at 0x7fd5bdc74150>, <keras.layers.normalization.batch_normalization.BatchNormalization object at 0x7fd5be0fec50>, <keras.layers.convolutional.Conv2D object at 0x7fd5bd3ec0d0>, <keras.layers.normalization.batch_normalization.BatchNormalization object at 0x7fd5b00e01d0>, <keras.layers.pooling.MaxPooling2D object at 0x7fd5be0fe3d0>, <keras.layers.convolutional.Conv2D object at 0x7fd5b00c0190>, <keras.layers.normalization.batch_normalization.BatchNormalization object at 0x7fd5b004d2d0>, <keras.layers.convolutional.Conv2D object at 0x7fd5b0051f50>, <keras.layers.normalization.batch_normalization.BatchNormalization object at 0x7fd5b004d1d0>, <keras.layers.pooling.MaxPooling2D object at 0x7fd5b0061910>, <keras.layers.convolutional.Conv2D object at 0x7fd5bdc3c310>, <keras.layers.normalization.batch_normalization.BatchNormalization object at 0x7fd5b0057c50>, <keras.layers.convolutional.Conv2D object at 0x7fd5b0073fd0>, <keras.layers.normalization.batch_normalization.BatchNormalization object at 0x7fd5b0073e90>, <keras.layers.pooling.MaxPooling2D object at 0x7fd5b0073650>, <keras.layers.core.flatten.Flatten object at 0x7fd5be141e10>, <keras.layers.core.dropout.Dropout object at 0x7fd5b0008650>, <keras.layers.core.dense.Dense object at 0x7fd5b000cfd0>, <keras.layers.core.dropout.Dropout object at 0x7fd5b001d850>, <keras.layers.core.dense.Dense object at 0x7fd5b001da10>]\n"
          ]
        }
      ]
    },
    {
      "cell_type": "code",
      "source": [
        "y_hat = np.argmax(model.predict(x_test), axis=1)"
      ],
      "metadata": {
        "id": "oFYn9nEcNmw8"
      },
      "execution_count": 18,
      "outputs": []
    },
    {
      "cell_type": "code",
      "source": [
        "#plot confusion matrix\n",
        "\n",
        "from sklearn.metrics import confusion_matrix\n",
        "import numpy as np\n",
        "import itertools\n",
        "\n",
        "tf.math.confusion_matrix(y_test, y_hat)"
      ],
      "metadata": {
        "colab": {
          "base_uri": "https://localhost:8080/"
        },
        "id": "xgvGRWHFNoaa",
        "outputId": "5d151dd8-b8c1-47cc-a466-71ad3b269dc4"
      },
      "execution_count": 19,
      "outputs": [
        {
          "output_type": "execute_result",
          "data": {
            "text/plain": [
              "<tf.Tensor: shape=(10, 10), dtype=int32, numpy=\n",
              "array([[900,   8,  29,   6,   7,   7,   8,   4,  16,  15],\n",
              "       [ 11, 932,   1,   2,   1,   3,   1,   2,  10,  37],\n",
              "       [ 54,   1, 776,  27,  43,  44,  39,   8,   2,   6],\n",
              "       [ 22,   3,  47, 685,  28, 142,  35,  18,   9,  11],\n",
              "       [ 11,   3,  45,  47, 811,  31,  28,  22,   2,   0],\n",
              "       [  6,   1,  34,  90,  24, 817,   8,  19,   0,   1],\n",
              "       [  5,   4,  33,  36,  14,  20, 877,   5,   3,   3],\n",
              "       [ 17,   0,  10,  29,  28,  41,   3, 864,   0,   8],\n",
              "       [ 53,  15,  11,  11,   0,   3,   2,   2, 888,  15],\n",
              "       [ 20,  55,   5,   7,   2,   2,   3,   5,  11, 890]], dtype=int32)>"
            ]
          },
          "metadata": {},
          "execution_count": 19
        }
      ]
    },
    {
      "cell_type": "code",
      "source": [
        "from sklearn.metrics import ConfusionMatrixDisplay\n",
        "ConfusionMatrixDisplay.from_predictions(y_test, y_hat,  cmap='Blues')"
      ],
      "metadata": {
        "colab": {
          "base_uri": "https://localhost:8080/",
          "height": 296
        },
        "id": "UPg_ypOeNqLW",
        "outputId": "f6e921b9-cb08-442b-8639-8df1f63f0ce6"
      },
      "execution_count": 20,
      "outputs": [
        {
          "output_type": "execute_result",
          "data": {
            "text/plain": [
              "<sklearn.metrics._plot.confusion_matrix.ConfusionMatrixDisplay at 0x7fd52ce8c7d0>"
            ]
          },
          "metadata": {},
          "execution_count": 20
        },
        {
          "output_type": "display_data",
          "data": {
            "text/plain": [
              "<Figure size 432x288 with 2 Axes>"
            ],
            "image/png": "[encoded data removed]"
          },
          "metadata": {
            "needs_background": "light"
          }
        }
      ]
    },
    {
      "cell_type": "code",
      "source": [
        "#plot misclassified examples\n",
        "classes = ('plane', 'car', 'bird', 'cat',\n",
        "           'deer', 'dog', 'frog', 'horse', 'ship', 'truck')\n",
        "misclassified_idx = np.where(y_hat != y_test)[0]\n",
        "i = np.random.choice(misclassified_idx)\n",
        "plt.imshow(x_test[i])\n",
        "plt.title(\"True label: %s Predicted as: %s\" % (classes[y_test[i]], classes[y_hat[i]]))"
      ],
      "metadata": {
        "colab": {
          "base_uri": "https://localhost:8080/",
          "height": 298
        },
        "id": "6KFZskJaNtgy",
        "outputId": "e1b74d19-5435-405b-a050-c4167cc9e860"
      },
      "execution_count": 27,
      "outputs": [
        {
          "output_type": "execute_result",
          "data": {
            "text/plain": [
              "Text(0.5, 1.0, 'True label: ship Predicted as: plane')"
            ]
          },
          "metadata": {},
          "execution_count": 27
        },
        {
          "output_type": "display_data",
          "data": {
            "text/plain": [
              "<Figure size 432x288 with 1 Axes>"
            ],
            "image/png": "[encoded data removed]"
          },
          "metadata": {
            "needs_background": "light"
          }
        }
      ]
    },
    {
      "cell_type": "code",
      "source": [
        ""
      ],
      "metadata": {
        "id": "bKEJDeBWN7ir"
      },
      "execution_count": null,
      "outputs": []
    }
  ]
}