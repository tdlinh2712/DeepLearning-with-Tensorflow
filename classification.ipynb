{
  "nbformat": 4,
  "nbformat_minor": 0,
  "metadata": {
    "colab": {
      "name": "classification.ipynb",
      "provenance": [],
      "authorship_tag": "ABX9TyMkhItCmd6TxgNgWEHi+nb+",
      "include_colab_link": true
    },
    "kernelspec": {
      "name": "python3",
      "display_name": "Python 3"
    },
    "language_info": {
      "name": "python"
    }
  },
  "cells": [
    {
      "cell_type": "markdown",
      "metadata": {
        "id": "view-in-github",
        "colab_type": "text"
      },
      "source": [
        "<a href=\"https://colab.research.google.com/github/tdlinh2712/DeepLearning-with-Tensorflow/blob/master/classification.ipynb\" target=\"_parent\"><img src=\"https://colab.research.google.com/assets/colab-badge.svg\" alt=\"Open In Colab\"/></a>"
      ]
    },
    {
      "cell_type": "code",
      "execution_count": 2,
      "metadata": {
        "id": "Dc6XgZPcDv_t"
      },
      "outputs": [],
      "source": [
        "import tensorflow as tf"
      ]
    },
    {
      "cell_type": "code",
      "source": [
        "tf.__version__"
      ],
      "metadata": {
        "colab": {
          "base_uri": "https://localhost:8080/",
          "height": 35
        },
        "id": "fDl7eFlJEV_v",
        "outputId": "dd5b35b3-efce-42d2-d024-367237ff2672"
      },
      "execution_count": 3,
      "outputs": [
        {
          "output_type": "execute_result",
          "data": {
            "text/plain": [
              "'2.8.0'"
            ],
            "application/vnd.google.colaboratory.intrinsic+json": {
              "type": "string"
            }
          },
          "metadata": {},
          "execution_count": 3
        }
      ]
    },
    {
      "cell_type": "code",
      "source": [
        "from sklearn.datasets import load_breast_cancer"
      ],
      "metadata": {
        "id": "3hB3Kia1EYj2"
      },
      "execution_count": 4,
      "outputs": []
    },
    {
      "cell_type": "code",
      "source": [
        "data = load_breast_cancer()"
      ],
      "metadata": {
        "id": "SMgxVAg0bpWJ"
      },
      "execution_count": 5,
      "outputs": []
    },
    {
      "cell_type": "code",
      "source": [
        "type(data)"
      ],
      "metadata": {
        "colab": {
          "base_uri": "https://localhost:8080/"
        },
        "id": "idFkUX8PbrWe",
        "outputId": "94d48efa-7d40-434b-ba6d-4d6d66820d04"
      },
      "execution_count": 6,
      "outputs": [
        {
          "output_type": "execute_result",
          "data": {
            "text/plain": [
              "sklearn.utils.Bunch"
            ]
          },
          "metadata": {},
          "execution_count": 6
        }
      ]
    },
    {
      "cell_type": "code",
      "source": [
        "data.keys()"
      ],
      "metadata": {
        "colab": {
          "base_uri": "https://localhost:8080/"
        },
        "id": "gBIH_ZcWbrzn",
        "outputId": "71532a3b-7df6-4a98-89d5-4df385cd4fcb"
      },
      "execution_count": 7,
      "outputs": [
        {
          "output_type": "execute_result",
          "data": {
            "text/plain": [
              "dict_keys(['data', 'target', 'frame', 'target_names', 'DESCR', 'feature_names', 'filename', 'data_module'])"
            ]
          },
          "metadata": {},
          "execution_count": 7
        }
      ]
    },
    {
      "cell_type": "code",
      "source": [
        "data.data.shape"
      ],
      "metadata": {
        "colab": {
          "base_uri": "https://localhost:8080/"
        },
        "id": "5rJXINDPbr5u",
        "outputId": "22711d0b-3144-475c-ce8e-123af479cec0"
      },
      "execution_count": 8,
      "outputs": [
        {
          "output_type": "execute_result",
          "data": {
            "text/plain": [
              "(569, 30)"
            ]
          },
          "metadata": {},
          "execution_count": 8
        }
      ]
    },
    {
      "cell_type": "code",
      "source": [
        "data.target"
      ],
      "metadata": {
        "colab": {
          "base_uri": "https://localhost:8080/"
        },
        "id": "XwtuUzHObr_T",
        "outputId": "a211e1a5-b9a2-48f9-f1ee-685ebd3b427e"
      },
      "execution_count": 9,
      "outputs": [
        {
          "output_type": "execute_result",
          "data": {
            "text/plain": [
              "array([0, 0, 0, 0, 0, 0, 0, 0, 0, 0, 0, 0, 0, 0, 0, 0, 0, 0, 0, 1, 1, 1,\n",
              "       0, 0, 0, 0, 0, 0, 0, 0, 0, 0, 0, 0, 0, 0, 0, 1, 0, 0, 0, 0, 0, 0,\n",
              "       0, 0, 1, 0, 1, 1, 1, 1, 1, 0, 0, 1, 0, 0, 1, 1, 1, 1, 0, 1, 0, 0,\n",
              "       1, 1, 1, 1, 0, 1, 0, 0, 1, 0, 1, 0, 0, 1, 1, 1, 0, 0, 1, 0, 0, 0,\n",
              "       1, 1, 1, 0, 1, 1, 0, 0, 1, 1, 1, 0, 0, 1, 1, 1, 1, 0, 1, 1, 0, 1,\n",
              "       1, 1, 1, 1, 1, 1, 1, 0, 0, 0, 1, 0, 0, 1, 1, 1, 0, 0, 1, 0, 1, 0,\n",
              "       0, 1, 0, 0, 1, 1, 0, 1, 1, 0, 1, 1, 1, 1, 0, 1, 1, 1, 1, 1, 1, 1,\n",
              "       1, 1, 0, 1, 1, 1, 1, 0, 0, 1, 0, 1, 1, 0, 0, 1, 1, 0, 0, 1, 1, 1,\n",
              "       1, 0, 1, 1, 0, 0, 0, 1, 0, 1, 0, 1, 1, 1, 0, 1, 1, 0, 0, 1, 0, 0,\n",
              "       0, 0, 1, 0, 0, 0, 1, 0, 1, 0, 1, 1, 0, 1, 0, 0, 0, 0, 1, 1, 0, 0,\n",
              "       1, 1, 1, 0, 1, 1, 1, 1, 1, 0, 0, 1, 1, 0, 1, 1, 0, 0, 1, 0, 1, 1,\n",
              "       1, 1, 0, 1, 1, 1, 1, 1, 0, 1, 0, 0, 0, 0, 0, 0, 0, 0, 0, 0, 0, 0,\n",
              "       0, 0, 1, 1, 1, 1, 1, 1, 0, 1, 0, 1, 1, 0, 1, 1, 0, 1, 0, 0, 1, 1,\n",
              "       1, 1, 1, 1, 1, 1, 1, 1, 1, 1, 1, 0, 1, 1, 0, 1, 0, 1, 1, 1, 1, 1,\n",
              "       1, 1, 1, 1, 1, 1, 1, 1, 1, 0, 1, 1, 1, 0, 1, 0, 1, 1, 1, 1, 0, 0,\n",
              "       0, 1, 1, 1, 1, 0, 1, 0, 1, 0, 1, 1, 1, 0, 1, 1, 1, 1, 1, 1, 1, 0,\n",
              "       0, 0, 1, 1, 1, 1, 1, 1, 1, 1, 1, 1, 1, 0, 0, 1, 0, 0, 0, 1, 0, 0,\n",
              "       1, 1, 1, 1, 1, 0, 1, 1, 1, 1, 1, 0, 1, 1, 1, 0, 1, 1, 0, 0, 1, 1,\n",
              "       1, 1, 1, 1, 0, 1, 1, 1, 1, 1, 1, 1, 0, 1, 1, 1, 1, 1, 0, 1, 1, 0,\n",
              "       1, 1, 1, 1, 1, 1, 1, 1, 1, 1, 1, 1, 0, 1, 0, 0, 1, 0, 1, 1, 1, 1,\n",
              "       1, 0, 1, 1, 0, 1, 0, 1, 1, 0, 1, 0, 1, 1, 1, 1, 1, 1, 1, 1, 0, 0,\n",
              "       1, 1, 1, 1, 1, 1, 0, 1, 1, 1, 1, 1, 1, 1, 1, 1, 1, 0, 1, 1, 1, 1,\n",
              "       1, 1, 1, 0, 1, 0, 1, 1, 0, 1, 1, 1, 1, 1, 0, 0, 1, 0, 1, 0, 1, 1,\n",
              "       1, 1, 1, 0, 1, 1, 0, 1, 0, 1, 0, 0, 1, 1, 1, 0, 1, 1, 1, 1, 1, 1,\n",
              "       1, 1, 1, 1, 1, 0, 1, 0, 0, 1, 1, 1, 1, 1, 1, 1, 1, 1, 1, 1, 1, 1,\n",
              "       1, 1, 1, 1, 1, 1, 1, 1, 1, 1, 1, 1, 0, 0, 0, 0, 0, 0, 1])"
            ]
          },
          "metadata": {},
          "execution_count": 9
        }
      ]
    },
    {
      "cell_type": "code",
      "source": [
        "data.target.shape"
      ],
      "metadata": {
        "colab": {
          "base_uri": "https://localhost:8080/"
        },
        "id": "JwVpE05PbsDg",
        "outputId": "be19ce8e-ad05-4915-df93-e435dcdba293"
      },
      "execution_count": 10,
      "outputs": [
        {
          "output_type": "execute_result",
          "data": {
            "text/plain": [
              "(569,)"
            ]
          },
          "metadata": {},
          "execution_count": 10
        }
      ]
    },
    {
      "cell_type": "code",
      "source": [
        "data.target_names"
      ],
      "metadata": {
        "colab": {
          "base_uri": "https://localhost:8080/"
        },
        "id": "-XpKA3M9bsHL",
        "outputId": "e1db19e2-c5ff-4265-b2de-3bce2c734f9a"
      },
      "execution_count": 11,
      "outputs": [
        {
          "output_type": "execute_result",
          "data": {
            "text/plain": [
              "array(['malignant', 'benign'], dtype='<U9')"
            ]
          },
          "metadata": {},
          "execution_count": 11
        }
      ]
    },
    {
      "cell_type": "code",
      "source": [
        "from sklearn.model_selection import train_test_split\n",
        "\n",
        "X_train, X_test, y_train, y_test = train_test_split(data.data, data.target, test_size=0.33)\n",
        "N, D = X_train.shape"
      ],
      "metadata": {
        "id": "4ahsZbrVcGie"
      },
      "execution_count": 12,
      "outputs": []
    },
    {
      "cell_type": "code",
      "source": [
        "from sklearn.preprocessing import StandardScaler\n",
        "\n",
        "scaler = StandardScaler()\n",
        "X_train = scaler.fit_transform(X_train)\n",
        "X_test = scaler.transform(X_test)"
      ],
      "metadata": {
        "id": "4GZuVT8GcNb2"
      },
      "execution_count": 13,
      "outputs": []
    },
    {
      "cell_type": "code",
      "source": [
        "import tensorflow as tf\n",
        "model = tf.keras.models.Sequential([\n",
        "  tf.keras.layers.Input(shape=(D,)),\n",
        "  tf.keras.layers.Dense(1, activation='sigmoid')\n",
        "])"
      ],
      "metadata": {
        "id": "8t1YbAfmcO9e"
      },
      "execution_count": 14,
      "outputs": []
    },
    {
      "cell_type": "code",
      "source": [
        "model.compile(optimizer='adam', loss='binary_crossentropy', metrics=['accuracy'])"
      ],
      "metadata": {
        "id": "ElJSApRAcO__"
      },
      "execution_count": 15,
      "outputs": []
    },
    {
      "cell_type": "code",
      "source": [
        "r = model.fit(X_train, y_train, validation_data=(X_test, y_test), epochs=100)"
      ],
      "metadata": {
        "colab": {
          "base_uri": "https://localhost:8080/"
        },
        "id": "gzyg-VcTc6-l",
        "outputId": "37af60f9-85fc-45ae-bbbb-c79968dc8364"
      },
      "execution_count": 16,
      "outputs": [
        {
          "output_type": "stream",
          "name": "stdout",
          "text": [
            "Epoch 1/100\n",
            "12/12 [==============================] - 1s 29ms/step - loss: 1.5043 - accuracy: 0.1312 - val_loss: 1.4201 - val_accuracy: 0.1383\n",
            "Epoch 2/100\n",
            "12/12 [==============================] - 0s 7ms/step - loss: 1.3731 - accuracy: 0.1522 - val_loss: 1.2919 - val_accuracy: 0.1649\n",
            "Epoch 3/100\n",
            "12/12 [==============================] - 0s 7ms/step - loss: 1.2481 - accuracy: 0.1680 - val_loss: 1.1711 - val_accuracy: 0.1968\n",
            "Epoch 4/100\n",
            "12/12 [==============================] - 0s 7ms/step - loss: 1.1345 - accuracy: 0.2021 - val_loss: 1.0577 - val_accuracy: 0.2447\n",
            "Epoch 5/100\n",
            "12/12 [==============================] - 0s 7ms/step - loss: 1.0271 - accuracy: 0.2520 - val_loss: 0.9548 - val_accuracy: 0.3245\n",
            "Epoch 6/100\n",
            "12/12 [==============================] - 0s 8ms/step - loss: 0.9309 - accuracy: 0.3281 - val_loss: 0.8626 - val_accuracy: 0.3830\n",
            "Epoch 7/100\n",
            "12/12 [==============================] - 0s 7ms/step - loss: 0.8432 - accuracy: 0.4068 - val_loss: 0.7823 - val_accuracy: 0.4947\n",
            "Epoch 8/100\n",
            "12/12 [==============================] - 0s 7ms/step - loss: 0.7675 - accuracy: 0.5092 - val_loss: 0.7122 - val_accuracy: 0.5691\n",
            "Epoch 9/100\n",
            "12/12 [==============================] - 0s 7ms/step - loss: 0.7011 - accuracy: 0.5853 - val_loss: 0.6523 - val_accuracy: 0.6702\n",
            "Epoch 10/100\n",
            "12/12 [==============================] - 0s 7ms/step - loss: 0.6440 - accuracy: 0.6693 - val_loss: 0.6014 - val_accuracy: 0.7234\n",
            "Epoch 11/100\n",
            "12/12 [==============================] - 0s 6ms/step - loss: 0.5942 - accuracy: 0.7244 - val_loss: 0.5584 - val_accuracy: 0.7606\n",
            "Epoch 12/100\n",
            "12/12 [==============================] - 0s 8ms/step - loss: 0.5517 - accuracy: 0.7664 - val_loss: 0.5214 - val_accuracy: 0.7926\n",
            "Epoch 13/100\n",
            "12/12 [==============================] - 0s 7ms/step - loss: 0.5149 - accuracy: 0.7953 - val_loss: 0.4902 - val_accuracy: 0.8085\n",
            "Epoch 14/100\n",
            "12/12 [==============================] - 0s 7ms/step - loss: 0.4835 - accuracy: 0.8189 - val_loss: 0.4631 - val_accuracy: 0.8191\n",
            "Epoch 15/100\n",
            "12/12 [==============================] - 0s 7ms/step - loss: 0.4562 - accuracy: 0.8530 - val_loss: 0.4394 - val_accuracy: 0.8351\n",
            "Epoch 16/100\n",
            "12/12 [==============================] - 0s 9ms/step - loss: 0.4326 - accuracy: 0.8819 - val_loss: 0.4184 - val_accuracy: 0.8457\n",
            "Epoch 17/100\n",
            "12/12 [==============================] - 0s 8ms/step - loss: 0.4112 - accuracy: 0.8976 - val_loss: 0.4001 - val_accuracy: 0.8670\n",
            "Epoch 18/100\n",
            "12/12 [==============================] - 0s 7ms/step - loss: 0.3926 - accuracy: 0.9108 - val_loss: 0.3837 - val_accuracy: 0.8670\n",
            "Epoch 19/100\n",
            "12/12 [==============================] - 0s 7ms/step - loss: 0.3759 - accuracy: 0.9186 - val_loss: 0.3690 - val_accuracy: 0.8830\n",
            "Epoch 20/100\n",
            "12/12 [==============================] - 0s 7ms/step - loss: 0.3608 - accuracy: 0.9186 - val_loss: 0.3558 - val_accuracy: 0.8883\n",
            "Epoch 21/100\n",
            "12/12 [==============================] - 0s 7ms/step - loss: 0.3471 - accuracy: 0.9186 - val_loss: 0.3438 - val_accuracy: 0.8936\n",
            "Epoch 22/100\n",
            "12/12 [==============================] - 0s 8ms/step - loss: 0.3347 - accuracy: 0.9186 - val_loss: 0.3328 - val_accuracy: 0.8936\n",
            "Epoch 23/100\n",
            "12/12 [==============================] - 0s 8ms/step - loss: 0.3234 - accuracy: 0.9213 - val_loss: 0.3226 - val_accuracy: 0.8989\n",
            "Epoch 24/100\n",
            "12/12 [==============================] - 0s 7ms/step - loss: 0.3128 - accuracy: 0.9160 - val_loss: 0.3132 - val_accuracy: 0.9096\n",
            "Epoch 25/100\n",
            "12/12 [==============================] - 0s 9ms/step - loss: 0.3029 - accuracy: 0.9213 - val_loss: 0.3046 - val_accuracy: 0.9096\n",
            "Epoch 26/100\n",
            "12/12 [==============================] - 0s 20ms/step - loss: 0.2939 - accuracy: 0.9265 - val_loss: 0.2965 - val_accuracy: 0.9096\n",
            "Epoch 27/100\n",
            "12/12 [==============================] - 0s 10ms/step - loss: 0.2854 - accuracy: 0.9318 - val_loss: 0.2891 - val_accuracy: 0.9096\n",
            "Epoch 28/100\n",
            "12/12 [==============================] - 0s 7ms/step - loss: 0.2776 - accuracy: 0.9370 - val_loss: 0.2821 - val_accuracy: 0.9096\n",
            "Epoch 29/100\n",
            "12/12 [==============================] - 0s 7ms/step - loss: 0.2702 - accuracy: 0.9396 - val_loss: 0.2754 - val_accuracy: 0.9149\n",
            "Epoch 30/100\n",
            "12/12 [==============================] - 0s 7ms/step - loss: 0.2632 - accuracy: 0.9396 - val_loss: 0.2692 - val_accuracy: 0.9149\n",
            "Epoch 31/100\n",
            "12/12 [==============================] - 0s 7ms/step - loss: 0.2566 - accuracy: 0.9396 - val_loss: 0.2633 - val_accuracy: 0.9149\n",
            "Epoch 32/100\n",
            "12/12 [==============================] - 0s 7ms/step - loss: 0.2504 - accuracy: 0.9396 - val_loss: 0.2580 - val_accuracy: 0.9202\n",
            "Epoch 33/100\n",
            "12/12 [==============================] - 0s 7ms/step - loss: 0.2445 - accuracy: 0.9423 - val_loss: 0.2527 - val_accuracy: 0.9202\n",
            "Epoch 34/100\n",
            "12/12 [==============================] - 0s 18ms/step - loss: 0.2390 - accuracy: 0.9423 - val_loss: 0.2477 - val_accuracy: 0.9309\n",
            "Epoch 35/100\n",
            "12/12 [==============================] - 0s 16ms/step - loss: 0.2338 - accuracy: 0.9423 - val_loss: 0.2430 - val_accuracy: 0.9309\n",
            "Epoch 36/100\n",
            "12/12 [==============================] - 0s 7ms/step - loss: 0.2287 - accuracy: 0.9449 - val_loss: 0.2385 - val_accuracy: 0.9309\n",
            "Epoch 37/100\n",
            "12/12 [==============================] - 0s 6ms/step - loss: 0.2239 - accuracy: 0.9475 - val_loss: 0.2344 - val_accuracy: 0.9255\n",
            "Epoch 38/100\n",
            "12/12 [==============================] - 0s 7ms/step - loss: 0.2195 - accuracy: 0.9475 - val_loss: 0.2304 - val_accuracy: 0.9255\n",
            "Epoch 39/100\n",
            "12/12 [==============================] - 0s 8ms/step - loss: 0.2152 - accuracy: 0.9475 - val_loss: 0.2264 - val_accuracy: 0.9255\n",
            "Epoch 40/100\n",
            "12/12 [==============================] - 0s 7ms/step - loss: 0.2109 - accuracy: 0.9475 - val_loss: 0.2227 - val_accuracy: 0.9255\n",
            "Epoch 41/100\n",
            "12/12 [==============================] - 0s 8ms/step - loss: 0.2070 - accuracy: 0.9475 - val_loss: 0.2193 - val_accuracy: 0.9309\n",
            "Epoch 42/100\n",
            "12/12 [==============================] - 0s 15ms/step - loss: 0.2033 - accuracy: 0.9475 - val_loss: 0.2158 - val_accuracy: 0.9309\n",
            "Epoch 43/100\n",
            "12/12 [==============================] - 0s 19ms/step - loss: 0.1996 - accuracy: 0.9475 - val_loss: 0.2127 - val_accuracy: 0.9309\n",
            "Epoch 44/100\n",
            "12/12 [==============================] - 0s 7ms/step - loss: 0.1963 - accuracy: 0.9475 - val_loss: 0.2095 - val_accuracy: 0.9309\n",
            "Epoch 45/100\n",
            "12/12 [==============================] - 0s 7ms/step - loss: 0.1928 - accuracy: 0.9501 - val_loss: 0.2066 - val_accuracy: 0.9309\n",
            "Epoch 46/100\n",
            "12/12 [==============================] - 0s 8ms/step - loss: 0.1897 - accuracy: 0.9528 - val_loss: 0.2038 - val_accuracy: 0.9309\n",
            "Epoch 47/100\n",
            "12/12 [==============================] - 0s 7ms/step - loss: 0.1867 - accuracy: 0.9554 - val_loss: 0.2010 - val_accuracy: 0.9309\n",
            "Epoch 48/100\n",
            "12/12 [==============================] - 0s 7ms/step - loss: 0.1837 - accuracy: 0.9580 - val_loss: 0.1984 - val_accuracy: 0.9309\n",
            "Epoch 49/100\n",
            "12/12 [==============================] - 0s 8ms/step - loss: 0.1810 - accuracy: 0.9580 - val_loss: 0.1958 - val_accuracy: 0.9309\n",
            "Epoch 50/100\n",
            "12/12 [==============================] - 0s 7ms/step - loss: 0.1781 - accuracy: 0.9606 - val_loss: 0.1934 - val_accuracy: 0.9309\n",
            "Epoch 51/100\n",
            "12/12 [==============================] - 0s 7ms/step - loss: 0.1755 - accuracy: 0.9633 - val_loss: 0.1911 - val_accuracy: 0.9309\n",
            "Epoch 52/100\n",
            "12/12 [==============================] - 0s 7ms/step - loss: 0.1729 - accuracy: 0.9659 - val_loss: 0.1888 - val_accuracy: 0.9309\n",
            "Epoch 53/100\n",
            "12/12 [==============================] - 0s 7ms/step - loss: 0.1705 - accuracy: 0.9659 - val_loss: 0.1866 - val_accuracy: 0.9309\n",
            "Epoch 54/100\n",
            "12/12 [==============================] - 0s 5ms/step - loss: 0.1681 - accuracy: 0.9685 - val_loss: 0.1845 - val_accuracy: 0.9309\n",
            "Epoch 55/100\n",
            "12/12 [==============================] - 0s 7ms/step - loss: 0.1659 - accuracy: 0.9711 - val_loss: 0.1824 - val_accuracy: 0.9309\n",
            "Epoch 56/100\n",
            "12/12 [==============================] - 0s 8ms/step - loss: 0.1636 - accuracy: 0.9711 - val_loss: 0.1804 - val_accuracy: 0.9309\n",
            "Epoch 57/100\n",
            "12/12 [==============================] - 0s 7ms/step - loss: 0.1615 - accuracy: 0.9711 - val_loss: 0.1786 - val_accuracy: 0.9309\n",
            "Epoch 58/100\n",
            "12/12 [==============================] - 0s 7ms/step - loss: 0.1595 - accuracy: 0.9738 - val_loss: 0.1766 - val_accuracy: 0.9309\n",
            "Epoch 59/100\n",
            "12/12 [==============================] - 0s 7ms/step - loss: 0.1574 - accuracy: 0.9738 - val_loss: 0.1748 - val_accuracy: 0.9309\n",
            "Epoch 60/100\n",
            "12/12 [==============================] - 0s 7ms/step - loss: 0.1555 - accuracy: 0.9738 - val_loss: 0.1731 - val_accuracy: 0.9362\n",
            "Epoch 61/100\n",
            "12/12 [==============================] - 0s 7ms/step - loss: 0.1536 - accuracy: 0.9738 - val_loss: 0.1714 - val_accuracy: 0.9362\n",
            "Epoch 62/100\n",
            "12/12 [==============================] - 0s 7ms/step - loss: 0.1519 - accuracy: 0.9738 - val_loss: 0.1698 - val_accuracy: 0.9468\n",
            "Epoch 63/100\n",
            "12/12 [==============================] - 0s 7ms/step - loss: 0.1501 - accuracy: 0.9738 - val_loss: 0.1682 - val_accuracy: 0.9468\n",
            "Epoch 64/100\n",
            "12/12 [==============================] - 0s 7ms/step - loss: 0.1484 - accuracy: 0.9738 - val_loss: 0.1667 - val_accuracy: 0.9468\n",
            "Epoch 65/100\n",
            "12/12 [==============================] - 0s 9ms/step - loss: 0.1467 - accuracy: 0.9738 - val_loss: 0.1652 - val_accuracy: 0.9468\n",
            "Epoch 66/100\n",
            "12/12 [==============================] - 0s 7ms/step - loss: 0.1451 - accuracy: 0.9738 - val_loss: 0.1638 - val_accuracy: 0.9468\n",
            "Epoch 67/100\n",
            "12/12 [==============================] - 0s 7ms/step - loss: 0.1435 - accuracy: 0.9738 - val_loss: 0.1624 - val_accuracy: 0.9468\n",
            "Epoch 68/100\n",
            "12/12 [==============================] - 0s 8ms/step - loss: 0.1420 - accuracy: 0.9738 - val_loss: 0.1609 - val_accuracy: 0.9468\n",
            "Epoch 69/100\n",
            "12/12 [==============================] - 0s 7ms/step - loss: 0.1405 - accuracy: 0.9738 - val_loss: 0.1596 - val_accuracy: 0.9468\n",
            "Epoch 70/100\n",
            "12/12 [==============================] - 0s 7ms/step - loss: 0.1391 - accuracy: 0.9738 - val_loss: 0.1583 - val_accuracy: 0.9468\n",
            "Epoch 71/100\n",
            "12/12 [==============================] - 0s 7ms/step - loss: 0.1376 - accuracy: 0.9738 - val_loss: 0.1570 - val_accuracy: 0.9468\n",
            "Epoch 72/100\n",
            "12/12 [==============================] - 0s 7ms/step - loss: 0.1363 - accuracy: 0.9738 - val_loss: 0.1558 - val_accuracy: 0.9468\n",
            "Epoch 73/100\n",
            "12/12 [==============================] - 0s 7ms/step - loss: 0.1350 - accuracy: 0.9738 - val_loss: 0.1546 - val_accuracy: 0.9468\n",
            "Epoch 74/100\n",
            "12/12 [==============================] - 0s 7ms/step - loss: 0.1337 - accuracy: 0.9738 - val_loss: 0.1535 - val_accuracy: 0.9521\n",
            "Epoch 75/100\n",
            "12/12 [==============================] - 0s 8ms/step - loss: 0.1324 - accuracy: 0.9738 - val_loss: 0.1523 - val_accuracy: 0.9521\n",
            "Epoch 76/100\n",
            "12/12 [==============================] - 0s 7ms/step - loss: 0.1312 - accuracy: 0.9738 - val_loss: 0.1511 - val_accuracy: 0.9521\n",
            "Epoch 77/100\n",
            "12/12 [==============================] - 0s 8ms/step - loss: 0.1300 - accuracy: 0.9738 - val_loss: 0.1500 - val_accuracy: 0.9521\n",
            "Epoch 78/100\n",
            "12/12 [==============================] - 0s 7ms/step - loss: 0.1288 - accuracy: 0.9738 - val_loss: 0.1490 - val_accuracy: 0.9574\n",
            "Epoch 79/100\n",
            "12/12 [==============================] - 0s 7ms/step - loss: 0.1277 - accuracy: 0.9738 - val_loss: 0.1479 - val_accuracy: 0.9574\n",
            "Epoch 80/100\n",
            "12/12 [==============================] - 0s 6ms/step - loss: 0.1266 - accuracy: 0.9764 - val_loss: 0.1469 - val_accuracy: 0.9574\n",
            "Epoch 81/100\n",
            "12/12 [==============================] - 0s 7ms/step - loss: 0.1254 - accuracy: 0.9790 - val_loss: 0.1459 - val_accuracy: 0.9628\n",
            "Epoch 82/100\n",
            "12/12 [==============================] - 0s 7ms/step - loss: 0.1244 - accuracy: 0.9790 - val_loss: 0.1450 - val_accuracy: 0.9574\n",
            "Epoch 83/100\n",
            "12/12 [==============================] - 0s 7ms/step - loss: 0.1234 - accuracy: 0.9790 - val_loss: 0.1440 - val_accuracy: 0.9574\n",
            "Epoch 84/100\n",
            "12/12 [==============================] - 0s 7ms/step - loss: 0.1223 - accuracy: 0.9790 - val_loss: 0.1431 - val_accuracy: 0.9574\n",
            "Epoch 85/100\n",
            "12/12 [==============================] - 0s 7ms/step - loss: 0.1214 - accuracy: 0.9790 - val_loss: 0.1422 - val_accuracy: 0.9574\n",
            "Epoch 86/100\n",
            "12/12 [==============================] - 0s 7ms/step - loss: 0.1204 - accuracy: 0.9790 - val_loss: 0.1414 - val_accuracy: 0.9574\n",
            "Epoch 87/100\n",
            "12/12 [==============================] - 0s 7ms/step - loss: 0.1195 - accuracy: 0.9790 - val_loss: 0.1405 - val_accuracy: 0.9574\n",
            "Epoch 88/100\n",
            "12/12 [==============================] - 0s 7ms/step - loss: 0.1185 - accuracy: 0.9790 - val_loss: 0.1396 - val_accuracy: 0.9628\n",
            "Epoch 89/100\n",
            "12/12 [==============================] - 0s 7ms/step - loss: 0.1176 - accuracy: 0.9816 - val_loss: 0.1388 - val_accuracy: 0.9628\n",
            "Epoch 90/100\n",
            "12/12 [==============================] - 0s 7ms/step - loss: 0.1167 - accuracy: 0.9816 - val_loss: 0.1380 - val_accuracy: 0.9628\n",
            "Epoch 91/100\n",
            "12/12 [==============================] - 0s 7ms/step - loss: 0.1159 - accuracy: 0.9816 - val_loss: 0.1373 - val_accuracy: 0.9628\n",
            "Epoch 92/100\n",
            "12/12 [==============================] - 0s 7ms/step - loss: 0.1150 - accuracy: 0.9816 - val_loss: 0.1364 - val_accuracy: 0.9628\n",
            "Epoch 93/100\n",
            "12/12 [==============================] - 0s 7ms/step - loss: 0.1142 - accuracy: 0.9816 - val_loss: 0.1357 - val_accuracy: 0.9628\n",
            "Epoch 94/100\n",
            "12/12 [==============================] - 0s 7ms/step - loss: 0.1134 - accuracy: 0.9816 - val_loss: 0.1350 - val_accuracy: 0.9628\n",
            "Epoch 95/100\n",
            "12/12 [==============================] - 0s 7ms/step - loss: 0.1125 - accuracy: 0.9816 - val_loss: 0.1342 - val_accuracy: 0.9628\n",
            "Epoch 96/100\n",
            "12/12 [==============================] - 0s 7ms/step - loss: 0.1117 - accuracy: 0.9816 - val_loss: 0.1335 - val_accuracy: 0.9628\n",
            "Epoch 97/100\n",
            "12/12 [==============================] - 0s 8ms/step - loss: 0.1110 - accuracy: 0.9816 - val_loss: 0.1328 - val_accuracy: 0.9628\n",
            "Epoch 98/100\n",
            "12/12 [==============================] - 0s 7ms/step - loss: 0.1102 - accuracy: 0.9816 - val_loss: 0.1321 - val_accuracy: 0.9628\n",
            "Epoch 99/100\n",
            "12/12 [==============================] - 0s 7ms/step - loss: 0.1095 - accuracy: 0.9816 - val_loss: 0.1314 - val_accuracy: 0.9628\n",
            "Epoch 100/100\n",
            "12/12 [==============================] - 0s 7ms/step - loss: 0.1088 - accuracy: 0.9816 - val_loss: 0.1307 - val_accuracy: 0.9628\n"
          ]
        }
      ]
    },
    {
      "cell_type": "code",
      "source": [
        "print(\"Train score:\",model.evaluate(X_train, y_train))\n",
        "print(\"Test score:\", model.evaluate(X_test, y_test))"
      ],
      "metadata": {
        "colab": {
          "base_uri": "https://localhost:8080/"
        },
        "id": "60S7jCRxcPDY",
        "outputId": "811fe362-14d8-4f76-8b4d-b10b1ab0412f"
      },
      "execution_count": 17,
      "outputs": [
        {
          "output_type": "stream",
          "name": "stdout",
          "text": [
            "12/12 [==============================] - 0s 2ms/step - loss: 0.1084 - accuracy: 0.9816\n",
            "Train score: [0.1083541065454483, 0.9816272854804993]\n",
            "6/6 [==============================] - 0s 3ms/step - loss: 0.1307 - accuracy: 0.9628\n",
            "Test score: [0.13067112863063812, 0.9627659320831299]\n"
          ]
        }
      ]
    },
    {
      "cell_type": "code",
      "source": [
        "import matplotlib.pyplot as plt\n",
        "\n",
        "plt.plot(r.history['loss'], label='loss')\n",
        "plt.plot(r.history['val_loss'], label='val_loss')\n",
        "plt.legend()"
      ],
      "metadata": {
        "colab": {
          "base_uri": "https://localhost:8080/",
          "height": 282
        },
        "id": "U01D5CxRdqXM",
        "outputId": "500b27c0-e430-40da-c9ac-da0ff7cc02fe"
      },
      "execution_count": 18,
      "outputs": [
        {
          "output_type": "execute_result",
          "data": {
            "text/plain": [
              "<matplotlib.legend.Legend at 0x7f1e39be1210>"
            ]
          },
          "metadata": {},
          "execution_count": 18
        },
        {
          "output_type": "display_data",
          "data": {
            "text/plain": [
              "<Figure size 432x288 with 1 Axes>"
            ],
            "image/png": "[encoded data removed]"
          },
          "metadata": {
            "needs_background": "light"
          }
        }
      ]
    },
    {
      "cell_type": "code",
      "source": [
        "plt.plot(r.history['accuracy'], label='acc')\n",
        "plt.plot(r.history['val_accuracy'], label='val_acc')\n",
        "plt.legend()"
      ],
      "metadata": {
        "colab": {
          "base_uri": "https://localhost:8080/",
          "height": 282
        },
        "id": "tRK6ixw5d_re",
        "outputId": "3d0a1d3a-243e-4862-abb5-f0a9a6d7282e"
      },
      "execution_count": 19,
      "outputs": [
        {
          "output_type": "execute_result",
          "data": {
            "text/plain": [
              "<matplotlib.legend.Legend at 0x7f1e371eb990>"
            ]
          },
          "metadata": {},
          "execution_count": 19
        },
        {
          "output_type": "display_data",
          "data": {
            "text/plain": [
              "<Figure size 432x288 with 1 Axes>"
            ],
            "image/png": "[encoded data removed]"
          },
          "metadata": {
            "needs_background": "light"
          }
        }
      ]
    },
    {
      "cell_type": "code",
      "source": [
        "P = model.predict(X_test)\n",
        "print(P)"
      ],
      "metadata": {
        "id": "UB2IV2B_eLU6",
        "colab": {
          "base_uri": "https://localhost:8080/"
        },
        "outputId": "ee6f25e6-a31e-4ffb-b3a3-ec26cd3c2366"
      },
      "execution_count": 20,
      "outputs": [
        {
          "output_type": "stream",
          "name": "stdout",
          "text": [
            "[[9.9701351e-01]\n",
            " [6.1496198e-03]\n",
            " [9.0125144e-02]\n",
            " [9.9235940e-01]\n",
            " [9.9789190e-01]\n",
            " [1.4429906e-01]\n",
            " [3.2190641e-05]\n",
            " [9.9773914e-01]\n",
            " [9.0790015e-01]\n",
            " [9.5358044e-01]\n",
            " [4.0268898e-04]\n",
            " [1.4319685e-01]\n",
            " [1.0000646e-02]\n",
            " [5.7888538e-02]\n",
            " [9.1184187e-01]\n",
            " [9.8510933e-01]\n",
            " [5.8197975e-04]\n",
            " [1.0092556e-03]\n",
            " [2.8916985e-02]\n",
            " [9.3778223e-01]\n",
            " [1.7214686e-02]\n",
            " [8.5515290e-02]\n",
            " [1.9236505e-03]\n",
            " [9.2483014e-01]\n",
            " [1.3756454e-03]\n",
            " [1.9167066e-03]\n",
            " [4.1678548e-04]\n",
            " [4.6342283e-02]\n",
            " [9.1622913e-01]\n",
            " [8.1541657e-02]\n",
            " [8.3073986e-01]\n",
            " [1.5807152e-04]\n",
            " [4.7172010e-03]\n",
            " [6.7344087e-01]\n",
            " [9.6569097e-01]\n",
            " [7.8844738e-01]\n",
            " [4.9095750e-03]\n",
            " [3.1939870e-01]\n",
            " [9.9861240e-01]\n",
            " [9.6784151e-01]\n",
            " [8.9359128e-01]\n",
            " [9.7922653e-01]\n",
            " [9.6530712e-01]\n",
            " [9.6091926e-01]\n",
            " [8.9609063e-01]\n",
            " [9.9366653e-01]\n",
            " [1.0612011e-03]\n",
            " [2.3753434e-01]\n",
            " [2.1217167e-01]\n",
            " [9.8263419e-01]\n",
            " [3.0774653e-01]\n",
            " [9.4291747e-01]\n",
            " [9.8176402e-01]\n",
            " [5.9283316e-01]\n",
            " [9.7005016e-01]\n",
            " [3.2644272e-03]\n",
            " [2.3692846e-04]\n",
            " [9.9655348e-01]\n",
            " [1.8501610e-02]\n",
            " [6.9500458e-01]\n",
            " [7.2530812e-01]\n",
            " [5.8102667e-02]\n",
            " [7.7766794e-01]\n",
            " [5.3648818e-01]\n",
            " [9.9081433e-01]\n",
            " [5.4070777e-01]\n",
            " [9.7441673e-04]\n",
            " [4.6620348e-01]\n",
            " [5.6159985e-01]\n",
            " [1.0044652e-01]\n",
            " [1.3822317e-04]\n",
            " [2.8044403e-02]\n",
            " [1.7750204e-01]\n",
            " [9.9174094e-01]\n",
            " [9.5229447e-01]\n",
            " [9.3670511e-01]\n",
            " [2.4624911e-01]\n",
            " [9.7997653e-01]\n",
            " [1.3295710e-03]\n",
            " [2.8130916e-01]\n",
            " [9.6902359e-01]\n",
            " [1.3274193e-02]\n",
            " [8.2134008e-01]\n",
            " [2.9748678e-04]\n",
            " [9.9175417e-01]\n",
            " [2.2930503e-03]\n",
            " [9.9763298e-01]\n",
            " [5.2860081e-03]\n",
            " [9.9287921e-01]\n",
            " [3.2500812e-01]\n",
            " [9.1267109e-01]\n",
            " [1.9338727e-04]\n",
            " [9.9556732e-01]\n",
            " [6.0637271e-01]\n",
            " [9.2373085e-01]\n",
            " [9.8350847e-01]\n",
            " [6.8974495e-04]\n",
            " [9.9310350e-01]\n",
            " [9.8541766e-01]\n",
            " [9.8767257e-01]\n",
            " [1.6288757e-03]\n",
            " [1.7961264e-03]\n",
            " [3.3702410e-05]\n",
            " [9.7520351e-01]\n",
            " [9.8003960e-01]\n",
            " [2.7848601e-02]\n",
            " [1.2292152e-06]\n",
            " [5.0790844e-05]\n",
            " [5.1059723e-03]\n",
            " [8.4154940e-01]\n",
            " [9.4960308e-01]\n",
            " [6.8071306e-01]\n",
            " [9.8470831e-01]\n",
            " [4.6624362e-02]\n",
            " [7.3069692e-02]\n",
            " [2.0986795e-03]\n",
            " [2.5203824e-04]\n",
            " [6.4975297e-01]\n",
            " [9.6288210e-01]\n",
            " [5.9273672e-01]\n",
            " [9.6345061e-01]\n",
            " [9.5157578e-05]\n",
            " [9.9322534e-01]\n",
            " [9.3711078e-01]\n",
            " [7.5527692e-01]\n",
            " [1.8414855e-04]\n",
            " [9.9900365e-04]\n",
            " [9.4915545e-01]\n",
            " [7.7355826e-01]\n",
            " [9.9502540e-01]\n",
            " [1.7700702e-02]\n",
            " [9.9354273e-01]\n",
            " [1.7719775e-02]\n",
            " [4.8937687e-01]\n",
            " [9.9392462e-01]\n",
            " [9.9567229e-01]\n",
            " [5.0557137e-02]\n",
            " [6.5911889e-02]\n",
            " [5.1408267e-01]\n",
            " [8.4562415e-01]\n",
            " [2.4316024e-10]\n",
            " [5.8144248e-01]\n",
            " [9.0506423e-01]\n",
            " [9.9954337e-01]\n",
            " [8.4541345e-01]\n",
            " [8.9907116e-01]\n",
            " [9.7358155e-01]\n",
            " [9.7759074e-01]\n",
            " [9.9106485e-01]\n",
            " [9.8346305e-01]\n",
            " [8.0202419e-01]\n",
            " [6.8934965e-01]\n",
            " [8.6564624e-01]\n",
            " [7.5566602e-01]\n",
            " [9.6860909e-01]\n",
            " [9.6247184e-01]\n",
            " [4.6606776e-01]\n",
            " [3.9828396e-01]\n",
            " [9.9247700e-01]\n",
            " [1.9810110e-02]\n",
            " [1.2396076e-01]\n",
            " [9.9817562e-01]\n",
            " [9.7539192e-01]\n",
            " [1.9928545e-02]\n",
            " [4.0475738e-01]\n",
            " [8.6877728e-01]\n",
            " [9.9734163e-01]\n",
            " [2.9625177e-02]\n",
            " [9.9822235e-01]\n",
            " [7.1435952e-01]\n",
            " [9.8665011e-01]\n",
            " [9.8618406e-01]\n",
            " [9.0216565e-01]\n",
            " [9.6627718e-01]\n",
            " [9.8464143e-01]\n",
            " [9.0980250e-01]\n",
            " [9.3649721e-01]\n",
            " [2.9250979e-04]\n",
            " [3.6142442e-01]\n",
            " [9.6725661e-01]\n",
            " [8.3161223e-01]\n",
            " [9.8964441e-01]\n",
            " [6.2834293e-01]\n",
            " [8.6595386e-01]\n",
            " [8.4371924e-01]\n",
            " [2.8863817e-02]\n",
            " [2.5722384e-03]\n",
            " [9.8579431e-01]]\n"
          ]
        }
      ]
    },
    {
      "cell_type": "code",
      "source": [
        "import numpy as np\n",
        "P = np.round(P).flatten()\n",
        "print(P)"
      ],
      "metadata": {
        "colab": {
          "base_uri": "https://localhost:8080/"
        },
        "id": "G1TwlwCgXb51",
        "outputId": "daa5b173-8c5d-4417-ee8e-c003da4e2eb7"
      },
      "execution_count": 21,
      "outputs": [
        {
          "output_type": "stream",
          "name": "stdout",
          "text": [
            "[1. 0. 0. 1. 1. 0. 0. 1. 1. 1. 0. 0. 0. 0. 1. 1. 0. 0. 0. 1. 0. 0. 0. 1.\n",
            " 0. 0. 0. 0. 1. 0. 1. 0. 0. 1. 1. 1. 0. 0. 1. 1. 1. 1. 1. 1. 1. 1. 0. 0.\n",
            " 0. 1. 0. 1. 1. 1. 1. 0. 0. 1. 0. 1. 1. 0. 1. 1. 1. 1. 0. 0. 1. 0. 0. 0.\n",
            " 0. 1. 1. 1. 0. 1. 0. 0. 1. 0. 1. 0. 1. 0. 1. 0. 1. 0. 1. 0. 1. 1. 1. 1.\n",
            " 0. 1. 1. 1. 0. 0. 0. 1. 1. 0. 0. 0. 0. 1. 1. 1. 1. 0. 0. 0. 0. 1. 1. 1.\n",
            " 1. 0. 1. 1. 1. 0. 0. 1. 1. 1. 0. 1. 0. 0. 1. 1. 0. 0. 1. 1. 0. 1. 1. 1.\n",
            " 1. 1. 1. 1. 1. 1. 1. 1. 1. 1. 1. 1. 0. 0. 1. 0. 0. 1. 1. 0. 0. 1. 1. 0.\n",
            " 1. 1. 1. 1. 1. 1. 1. 1. 1. 0. 0. 1. 1. 1. 1. 1. 1. 0. 0. 1.]\n"
          ]
        }
      ]
    },
    {
      "cell_type": "code",
      "source": [
        "print(\"Manually calculated acc: \", np.mean(P == y_test))\n",
        "print(\"Evaluate output: \", model.evaluate(X_test, y_test))"
      ],
      "metadata": {
        "colab": {
          "base_uri": "https://localhost:8080/"
        },
        "id": "PDCwoWEAXlQ6",
        "outputId": "11b1adda-33d4-4b8c-b7db-1ba278109f09"
      },
      "execution_count": 22,
      "outputs": [
        {
          "output_type": "stream",
          "name": "stdout",
          "text": [
            "Manually calculated acc:  0.9627659574468085\n",
            "6/6 [==============================] - 0s 4ms/step - loss: 0.1307 - accuracy: 0.9628\n",
            "Evaluate output:  [0.13067112863063812, 0.9627659320831299]\n"
          ]
        }
      ]
    },
    {
      "cell_type": "code",
      "source": [
        "model.save('linearclassifier.h5')"
      ],
      "metadata": {
        "id": "BW9eNZkuYtMx"
      },
      "execution_count": 23,
      "outputs": []
    },
    {
      "cell_type": "code",
      "source": [
        "!ls -lh"
      ],
      "metadata": {
        "colab": {
          "base_uri": "https://localhost:8080/"
        },
        "id": "zPmh1ndcYwsE",
        "outputId": "3f2a9733-0c7c-484b-f91f-d5fb9ebe7c73"
      },
      "execution_count": 24,
      "outputs": [
        {
          "output_type": "stream",
          "name": "stdout",
          "text": [
            "total 24K\n",
            "-rw-r--r-- 1 root root  19K May 27 02:40 linearclassifier.h5\n",
            "drwxr-xr-x 1 root root 4.0K May 17 13:39 sample_data\n"
          ]
        }
      ]
    },
    {
      "cell_type": "code",
      "source": [
        "model = tf.keras.models.load_model('linearclassifier.h5')"
      ],
      "metadata": {
        "id": "F23_HFVJY2Ln"
      },
      "execution_count": 25,
      "outputs": []
    },
    {
      "cell_type": "code",
      "source": [
        "print(model.layers)"
      ],
      "metadata": {
        "colab": {
          "base_uri": "https://localhost:8080/"
        },
        "id": "L6hV0Tn4ZAN8",
        "outputId": "1e0a1481-cbd5-44ec-951e-1b406cca0d6a"
      },
      "execution_count": 26,
      "outputs": [
        {
          "output_type": "stream",
          "name": "stdout",
          "text": [
            "[<keras.layers.core.dense.Dense object at 0x7f1e39584c10>]\n"
          ]
        }
      ]
    },
    {
      "cell_type": "code",
      "source": [
        "model.evaluate(X_test, y_test)"
      ],
      "metadata": {
        "colab": {
          "base_uri": "https://localhost:8080/"
        },
        "id": "pTQXTI-LZBvj",
        "outputId": "80ac5fc5-f1c3-4e89-e2bc-903d9f7e341f"
      },
      "execution_count": 27,
      "outputs": [
        {
          "output_type": "stream",
          "name": "stdout",
          "text": [
            "6/6 [==============================] - 0s 4ms/step - loss: 0.1307 - accuracy: 0.9628\n"
          ]
        },
        {
          "output_type": "execute_result",
          "data": {
            "text/plain": [
              "[0.13067112863063812, 0.9627659320831299]"
            ]
          },
          "metadata": {},
          "execution_count": 27
        }
      ]
    },
    {
      "cell_type": "code",
      "source": [
        ""
      ],
      "metadata": {
        "id": "ZkhoDz8GZD4g"
      },
      "execution_count": null,
      "outputs": []
    }
  ]
}