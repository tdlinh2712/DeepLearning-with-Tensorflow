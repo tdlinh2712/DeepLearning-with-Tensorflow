{
  "nbformat": 4,
  "nbformat_minor": 0,
  "metadata": {
    "colab": {
      "name": "STock returns_LSTM.ipynb",
      "provenance": [],
      "collapsed_sections": [],
      "include_colab_link": true
    },
    "kernelspec": {
      "name": "python3",
      "display_name": "Python 3"
    },
    "language_info": {
      "name": "python"
    },
    "accelerator": "GPU"
  },
  "cells": [
    {
      "cell_type": "markdown",
      "metadata": {
        "id": "view-in-github",
        "colab_type": "text"
      },
      "source": [
        "<a href=\"https://colab.research.google.com/github/tdlinh2712/DeepLearning-with-Tensorflow/blob/master/STock_returns_LSTM.ipynb\" target=\"_parent\"><img src=\"https://colab.research.google.com/assets/colab-badge.svg\" alt=\"Open In Colab\"/></a>"
      ]
    },
    {
      "cell_type": "code",
      "source": [
        " import pandas as pd\n",
        " import numpy as np\n",
        " import matplotlib.pyplot as plt\n",
        " import tensorflow as tf"
      ],
      "metadata": {
        "id": "96iF6390GOGE"
      },
      "execution_count": 66,
      "outputs": []
    },
    {
      "cell_type": "code",
      "source": [
        "df = pd.read_csv('https://raw.githubusercontent.com/lazyprogrammer/machine_learning_examples/master/tf2.0/sbux.csv')\n",
        "df.head()"
      ],
      "metadata": {
        "id": "vC3Ve5IrHaAV",
        "colab": {
          "base_uri": "https://localhost:8080/",
          "height": 206
        },
        "outputId": "c08222c6-7840-4f67-eb25-db74334e4acc"
      },
      "execution_count": 67,
      "outputs": [
        {
          "output_type": "execute_result",
          "data": {
            "text/plain": [
              "         date    open    high     low   close   volume  Name\n",
              "0  2013-02-08  27.920  28.325  27.920  28.185  7146296  SBUX\n",
              "1  2013-02-11  28.260  28.260  27.930  28.070  5457354  SBUX\n",
              "2  2013-02-12  28.000  28.275  27.975  28.130  8665592  SBUX\n",
              "3  2013-02-13  28.230  28.230  27.750  27.915  7022056  SBUX\n",
              "4  2013-02-14  27.765  27.905  27.675  27.775  8899188  SBUX"
            ],
            "text/html": [
              "\n",
              "  <div id=\"df-6dcaffaa-b4a3-4066-a30b-155e4c8dcb9e\">\n",
              "    <div class=\"colab-df-container\">\n",
              "      <div>\n",
              "<style scoped>\n",
              "    .dataframe tbody tr th:only-of-type {\n",
              "        vertical-align: middle;\n",
              "    }\n",
              "\n",
              "    .dataframe tbody tr th {\n",
              "        vertical-align: top;\n",
              "    }\n",
              "\n",
              "    .dataframe thead th {\n",
              "        text-align: right;\n",
              "    }\n",
              "</style>\n",
              "<table border=\"1\" class=\"dataframe\">\n",
              "  <thead>\n",
              "    <tr style=\"text-align: right;\">\n",
              "      <th></th>\n",
              "      <th>date</th>\n",
              "      <th>open</th>\n",
              "      <th>high</th>\n",
              "      <th>low</th>\n",
              "      <th>close</th>\n",
              "      <th>volume</th>\n",
              "      <th>Name</th>\n",
              "    </tr>\n",
              "  </thead>\n",
              "  <tbody>\n",
              "    <tr>\n",
              "      <th>0</th>\n",
              "      <td>2013-02-08</td>\n",
              "      <td>27.920</td>\n",
              "      <td>28.325</td>\n",
              "      <td>27.920</td>\n",
              "      <td>28.185</td>\n",
              "      <td>7146296</td>\n",
              "      <td>SBUX</td>\n",
              "    </tr>\n",
              "    <tr>\n",
              "      <th>1</th>\n",
              "      <td>2013-02-11</td>\n",
              "      <td>28.260</td>\n",
              "      <td>28.260</td>\n",
              "      <td>27.930</td>\n",
              "      <td>28.070</td>\n",
              "      <td>5457354</td>\n",
              "      <td>SBUX</td>\n",
              "    </tr>\n",
              "    <tr>\n",
              "      <th>2</th>\n",
              "      <td>2013-02-12</td>\n",
              "      <td>28.000</td>\n",
              "      <td>28.275</td>\n",
              "      <td>27.975</td>\n",
              "      <td>28.130</td>\n",
              "      <td>8665592</td>\n",
              "      <td>SBUX</td>\n",
              "    </tr>\n",
              "    <tr>\n",
              "      <th>3</th>\n",
              "      <td>2013-02-13</td>\n",
              "      <td>28.230</td>\n",
              "      <td>28.230</td>\n",
              "      <td>27.750</td>\n",
              "      <td>27.915</td>\n",
              "      <td>7022056</td>\n",
              "      <td>SBUX</td>\n",
              "    </tr>\n",
              "    <tr>\n",
              "      <th>4</th>\n",
              "      <td>2013-02-14</td>\n",
              "      <td>27.765</td>\n",
              "      <td>27.905</td>\n",
              "      <td>27.675</td>\n",
              "      <td>27.775</td>\n",
              "      <td>8899188</td>\n",
              "      <td>SBUX</td>\n",
              "    </tr>\n",
              "  </tbody>\n",
              "</table>\n",
              "</div>\n",
              "      <button class=\"colab-df-convert\" onclick=\"convertToInteractive('df-6dcaffaa-b4a3-4066-a30b-155e4c8dcb9e')\"\n",
              "              title=\"Convert this dataframe to an interactive table.\"\n",
              "              style=\"display:none;\">\n",
              "        \n",
              "  <svg xmlns=\"http://www.w3.org/2000/svg\" height=\"24px\"viewBox=\"0 0 24 24\"\n",
              "       width=\"24px\">\n",
              "    <path d=\"M0 0h24v24H0V0z\" fill=\"none\"/>\n",
              "    <path d=\"M18.56 5.44l.94 2.06.94-2.06 2.06-.94-2.06-.94-.94-2.06-.94 2.06-2.06.94zm-11 1L8.5 8.5l.94-2.06 2.06-.94-2.06-.94L8.5 2.5l-.94 2.06-2.06.94zm10 10l.94 2.06.94-2.06 2.06-.94-2.06-.94-.94-2.06-.94 2.06-2.06.94z\"/><path d=\"M17.41 7.96l-1.37-1.37c-.4-.4-.92-.59-1.43-.59-.52 0-1.04.2-1.43.59L10.3 9.45l-7.72 7.72c-.78.78-.78 2.05 0 2.83L4 21.41c.39.39.9.59 1.41.59.51 0 1.02-.2 1.41-.59l7.78-7.78 2.81-2.81c.8-.78.8-2.07 0-2.86zM5.41 20L4 18.59l7.72-7.72 1.47 1.35L5.41 20z\"/>\n",
              "  </svg>\n",
              "      </button>\n",
              "      \n",
              "  <style>\n",
              "    .colab-df-container {\n",
              "      display:flex;\n",
              "      flex-wrap:wrap;\n",
              "      gap: 12px;\n",
              "    }\n",
              "\n",
              "    .colab-df-convert {\n",
              "      background-color: #E8F0FE;\n",
              "      border: none;\n",
              "      border-radius: 50%;\n",
              "      cursor: pointer;\n",
              "      display: none;\n",
              "      fill: #1967D2;\n",
              "      height: 32px;\n",
              "      padding: 0 0 0 0;\n",
              "      width: 32px;\n",
              "    }\n",
              "\n",
              "    .colab-df-convert:hover {\n",
              "      background-color: #E2EBFA;\n",
              "      box-shadow: 0px 1px 2px rgba(60, 64, 67, 0.3), 0px 1px 3px 1px rgba(60, 64, 67, 0.15);\n",
              "      fill: #174EA6;\n",
              "    }\n",
              "\n",
              "    [theme=dark] .colab-df-convert {\n",
              "      background-color: #3B4455;\n",
              "      fill: #D2E3FC;\n",
              "    }\n",
              "\n",
              "    [theme=dark] .colab-df-convert:hover {\n",
              "      background-color: #434B5C;\n",
              "      box-shadow: 0px 1px 3px 1px rgba(0, 0, 0, 0.15);\n",
              "      filter: drop-shadow(0px 1px 2px rgba(0, 0, 0, 0.3));\n",
              "      fill: #FFFFFF;\n",
              "    }\n",
              "  </style>\n",
              "\n",
              "      <script>\n",
              "        const buttonEl =\n",
              "          document.querySelector('#df-6dcaffaa-b4a3-4066-a30b-155e4c8dcb9e button.colab-df-convert');\n",
              "        buttonEl.style.display =\n",
              "          google.colab.kernel.accessAllowed ? 'block' : 'none';\n",
              "\n",
              "        async function convertToInteractive(key) {\n",
              "          const element = document.querySelector('#df-6dcaffaa-b4a3-4066-a30b-155e4c8dcb9e');\n",
              "          const dataTable =\n",
              "            await google.colab.kernel.invokeFunction('convertToInteractive',\n",
              "                                                     [key], {});\n",
              "          if (!dataTable) return;\n",
              "\n",
              "          const docLinkHtml = 'Like what you see? Visit the ' +\n",
              "            '<a target=\"_blank\" href=https://colab.research.google.com/notebooks/data_table.ipynb>data table notebook</a>'\n",
              "            + ' to learn more about interactive tables.';\n",
              "          element.innerHTML = '';\n",
              "          dataTable['output_type'] = 'display_data';\n",
              "          await google.colab.output.renderOutput(dataTable, element);\n",
              "          const docLink = document.createElement('div');\n",
              "          docLink.innerHTML = docLinkHtml;\n",
              "          element.appendChild(docLink);\n",
              "        }\n",
              "      </script>\n",
              "    </div>\n",
              "  </div>\n",
              "  "
            ]
          },
          "metadata": {},
          "execution_count": 67
        }
      ]
    },
    {
      "cell_type": "code",
      "source": [
        "df.tail()"
      ],
      "metadata": {
        "colab": {
          "base_uri": "https://localhost:8080/",
          "height": 206
        },
        "id": "jTAnL2-Ozbwi",
        "outputId": "14517c68-f226-4053-c8b2-c76d2da4302c"
      },
      "execution_count": 68,
      "outputs": [
        {
          "output_type": "execute_result",
          "data": {
            "text/plain": [
              "            date    open   high    low  close    volume  Name\n",
              "1254  2018-02-01  56.280  56.42  55.89  56.00  14690146  SBUX\n",
              "1255  2018-02-02  55.900  56.32  55.70  55.77  15358909  SBUX\n",
              "1256  2018-02-05  55.530  56.26  54.57  54.69  16059955  SBUX\n",
              "1257  2018-02-06  53.685  56.06  53.56  55.61  17415065  SBUX\n",
              "1258  2018-02-07  55.080  55.43  54.44  54.46  13927022  SBUX"
            ],
            "text/html": [
              "\n",
              "  <div id=\"df-9a907767-c8d4-4a00-bfef-729aa058435a\">\n",
              "    <div class=\"colab-df-container\">\n",
              "      <div>\n",
              "<style scoped>\n",
              "    .dataframe tbody tr th:only-of-type {\n",
              "        vertical-align: middle;\n",
              "    }\n",
              "\n",
              "    .dataframe tbody tr th {\n",
              "        vertical-align: top;\n",
              "    }\n",
              "\n",
              "    .dataframe thead th {\n",
              "        text-align: right;\n",
              "    }\n",
              "</style>\n",
              "<table border=\"1\" class=\"dataframe\">\n",
              "  <thead>\n",
              "    <tr style=\"text-align: right;\">\n",
              "      <th></th>\n",
              "      <th>date</th>\n",
              "      <th>open</th>\n",
              "      <th>high</th>\n",
              "      <th>low</th>\n",
              "      <th>close</th>\n",
              "      <th>volume</th>\n",
              "      <th>Name</th>\n",
              "    </tr>\n",
              "  </thead>\n",
              "  <tbody>\n",
              "    <tr>\n",
              "      <th>1254</th>\n",
              "      <td>2018-02-01</td>\n",
              "      <td>56.280</td>\n",
              "      <td>56.42</td>\n",
              "      <td>55.89</td>\n",
              "      <td>56.00</td>\n",
              "      <td>14690146</td>\n",
              "      <td>SBUX</td>\n",
              "    </tr>\n",
              "    <tr>\n",
              "      <th>1255</th>\n",
              "      <td>2018-02-02</td>\n",
              "      <td>55.900</td>\n",
              "      <td>56.32</td>\n",
              "      <td>55.70</td>\n",
              "      <td>55.77</td>\n",
              "      <td>15358909</td>\n",
              "      <td>SBUX</td>\n",
              "    </tr>\n",
              "    <tr>\n",
              "      <th>1256</th>\n",
              "      <td>2018-02-05</td>\n",
              "      <td>55.530</td>\n",
              "      <td>56.26</td>\n",
              "      <td>54.57</td>\n",
              "      <td>54.69</td>\n",
              "      <td>16059955</td>\n",
              "      <td>SBUX</td>\n",
              "    </tr>\n",
              "    <tr>\n",
              "      <th>1257</th>\n",
              "      <td>2018-02-06</td>\n",
              "      <td>53.685</td>\n",
              "      <td>56.06</td>\n",
              "      <td>53.56</td>\n",
              "      <td>55.61</td>\n",
              "      <td>17415065</td>\n",
              "      <td>SBUX</td>\n",
              "    </tr>\n",
              "    <tr>\n",
              "      <th>1258</th>\n",
              "      <td>2018-02-07</td>\n",
              "      <td>55.080</td>\n",
              "      <td>55.43</td>\n",
              "      <td>54.44</td>\n",
              "      <td>54.46</td>\n",
              "      <td>13927022</td>\n",
              "      <td>SBUX</td>\n",
              "    </tr>\n",
              "  </tbody>\n",
              "</table>\n",
              "</div>\n",
              "      <button class=\"colab-df-convert\" onclick=\"convertToInteractive('df-9a907767-c8d4-4a00-bfef-729aa058435a')\"\n",
              "              title=\"Convert this dataframe to an interactive table.\"\n",
              "              style=\"display:none;\">\n",
              "        \n",
              "  <svg xmlns=\"http://www.w3.org/2000/svg\" height=\"24px\"viewBox=\"0 0 24 24\"\n",
              "       width=\"24px\">\n",
              "    <path d=\"M0 0h24v24H0V0z\" fill=\"none\"/>\n",
              "    <path d=\"M18.56 5.44l.94 2.06.94-2.06 2.06-.94-2.06-.94-.94-2.06-.94 2.06-2.06.94zm-11 1L8.5 8.5l.94-2.06 2.06-.94-2.06-.94L8.5 2.5l-.94 2.06-2.06.94zm10 10l.94 2.06.94-2.06 2.06-.94-2.06-.94-.94-2.06-.94 2.06-2.06.94z\"/><path d=\"M17.41 7.96l-1.37-1.37c-.4-.4-.92-.59-1.43-.59-.52 0-1.04.2-1.43.59L10.3 9.45l-7.72 7.72c-.78.78-.78 2.05 0 2.83L4 21.41c.39.39.9.59 1.41.59.51 0 1.02-.2 1.41-.59l7.78-7.78 2.81-2.81c.8-.78.8-2.07 0-2.86zM5.41 20L4 18.59l7.72-7.72 1.47 1.35L5.41 20z\"/>\n",
              "  </svg>\n",
              "      </button>\n",
              "      \n",
              "  <style>\n",
              "    .colab-df-container {\n",
              "      display:flex;\n",
              "      flex-wrap:wrap;\n",
              "      gap: 12px;\n",
              "    }\n",
              "\n",
              "    .colab-df-convert {\n",
              "      background-color: #E8F0FE;\n",
              "      border: none;\n",
              "      border-radius: 50%;\n",
              "      cursor: pointer;\n",
              "      display: none;\n",
              "      fill: #1967D2;\n",
              "      height: 32px;\n",
              "      padding: 0 0 0 0;\n",
              "      width: 32px;\n",
              "    }\n",
              "\n",
              "    .colab-df-convert:hover {\n",
              "      background-color: #E2EBFA;\n",
              "      box-shadow: 0px 1px 2px rgba(60, 64, 67, 0.3), 0px 1px 3px 1px rgba(60, 64, 67, 0.15);\n",
              "      fill: #174EA6;\n",
              "    }\n",
              "\n",
              "    [theme=dark] .colab-df-convert {\n",
              "      background-color: #3B4455;\n",
              "      fill: #D2E3FC;\n",
              "    }\n",
              "\n",
              "    [theme=dark] .colab-df-convert:hover {\n",
              "      background-color: #434B5C;\n",
              "      box-shadow: 0px 1px 3px 1px rgba(0, 0, 0, 0.15);\n",
              "      filter: drop-shadow(0px 1px 2px rgba(0, 0, 0, 0.3));\n",
              "      fill: #FFFFFF;\n",
              "    }\n",
              "  </style>\n",
              "\n",
              "      <script>\n",
              "        const buttonEl =\n",
              "          document.querySelector('#df-9a907767-c8d4-4a00-bfef-729aa058435a button.colab-df-convert');\n",
              "        buttonEl.style.display =\n",
              "          google.colab.kernel.accessAllowed ? 'block' : 'none';\n",
              "\n",
              "        async function convertToInteractive(key) {\n",
              "          const element = document.querySelector('#df-9a907767-c8d4-4a00-bfef-729aa058435a');\n",
              "          const dataTable =\n",
              "            await google.colab.kernel.invokeFunction('convertToInteractive',\n",
              "                                                     [key], {});\n",
              "          if (!dataTable) return;\n",
              "\n",
              "          const docLinkHtml = 'Like what you see? Visit the ' +\n",
              "            '<a target=\"_blank\" href=https://colab.research.google.com/notebooks/data_table.ipynb>data table notebook</a>'\n",
              "            + ' to learn more about interactive tables.';\n",
              "          element.innerHTML = '';\n",
              "          dataTable['output_type'] = 'display_data';\n",
              "          await google.colab.output.renderOutput(dataTable, element);\n",
              "          const docLink = document.createElement('div');\n",
              "          docLink.innerHTML = docLinkHtml;\n",
              "          element.appendChild(docLink);\n",
              "        }\n",
              "      </script>\n",
              "    </div>\n",
              "  </div>\n",
              "  "
            ]
          },
          "metadata": {},
          "execution_count": 68
        }
      ]
    },
    {
      "cell_type": "code",
      "source": [
        "series = df['close'].values.reshape(-1, 1)"
      ],
      "metadata": {
        "id": "hZ8IUYp4je6B"
      },
      "execution_count": 69,
      "outputs": []
    },
    {
      "cell_type": "code",
      "source": [
        "from sklearn.preprocessing import StandardScaler"
      ],
      "metadata": {
        "id": "7nS0nAmI0HD0"
      },
      "execution_count": 70,
      "outputs": []
    },
    {
      "cell_type": "code",
      "source": [
        "# normalize the data\n",
        "scaler = StandardScaler()\n",
        "scaler.fit(series[:len(series) // 2])\n",
        "series = scaler.transform(series).flatten()"
      ],
      "metadata": {
        "id": "N4-Mb5xEHjY7"
      },
      "execution_count": 71,
      "outputs": []
    },
    {
      "cell_type": "code",
      "source": [
        "# build the dataset\n",
        "\n",
        "T = 10\n",
        "D = 1\n",
        "X = []\n",
        "Y = []\n",
        "for t in range(len(series) - T):\n",
        "  x = series[t:t+T]\n",
        "  X = np.append(X, x)\n",
        "  y = series[t+T]\n",
        "  Y = np.append(Y, y)\n",
        "\n",
        "X = np.array(X).reshape(-1, T, 1)\n",
        "Y = np.array(Y)\n",
        "N = len(X)\n",
        "print(\"X.shape\", X.shape, \"Y.shape\", Y.shape)"
      ],
      "metadata": {
        "colab": {
          "base_uri": "https://localhost:8080/"
        },
        "id": "Wq1QvNYMj1va",
        "outputId": "911a458f-abe4-4eb0-ef06-e851cda71f40"
      },
      "execution_count": 72,
      "outputs": [
        {
          "output_type": "stream",
          "name": "stdout",
          "text": [
            "X.shape (1249, 10, 1) Y.shape (1249,)\n"
          ]
        }
      ]
    },
    {
      "cell_type": "code",
      "source": [
        "from tensorflow.keras.layers import  Dense, Input, LSTM\n",
        "from tensorflow.keras import Model\n",
        "from tensorflow.keras.optimizers import Adam"
      ],
      "metadata": {
        "id": "nIzAlRYr1uNV"
      },
      "execution_count": 73,
      "outputs": []
    },
    {
      "cell_type": "code",
      "source": [
        "# try autogregressive RNN model\n",
        "i = Input(shape=(T, 1))\n",
        "x = LSTM(5)(i)\n",
        "x = Dense(1)(x)\n",
        "model = Model(i, x)\n",
        "model.compile(\n",
        "    loss = 'mse',\n",
        "    optimizer=Adam(lr=0.1),\n",
        ")\n",
        "\n",
        "# train the rnn\n",
        "r = model.fit(\n",
        "    X[:-N//2], Y[:-N//2],\n",
        "    epochs=80,\n",
        "    validation_data=(X[-N//2:], Y[-N//2:]),\n",
        ")"
      ],
      "metadata": {
        "id": "0E-Lf_SqIULD",
        "colab": {
          "base_uri": "https://localhost:8080/"
        },
        "outputId": "d29d2b68-af60-4269-a266-42392822f402"
      },
      "execution_count": 74,
      "outputs": [
        {
          "output_type": "stream",
          "name": "stdout",
          "text": [
            "Epoch 1/80\n"
          ]
        },
        {
          "output_type": "stream",
          "name": "stderr",
          "text": [
            "/usr/local/lib/python3.7/dist-packages/keras/optimizer_v2/adam.py:105: UserWarning: The `lr` argument is deprecated, use `learning_rate` instead.\n",
            "  super(Adam, self).__init__(name, **kwargs)\n"
          ]
        },
        {
          "output_type": "stream",
          "name": "stdout",
          "text": [
            "20/20 [==============================] - 2s 25ms/step - loss: 0.3116 - val_loss: 0.7263\n",
            "Epoch 2/80\n",
            "20/20 [==============================] - 0s 7ms/step - loss: 0.0266 - val_loss: 0.1344\n",
            "Epoch 3/80\n",
            "20/20 [==============================] - 0s 8ms/step - loss: 0.0076 - val_loss: 0.0549\n",
            "Epoch 4/80\n",
            "20/20 [==============================] - 0s 8ms/step - loss: 0.0071 - val_loss: 0.0435\n",
            "Epoch 5/80\n",
            "20/20 [==============================] - 0s 8ms/step - loss: 0.0085 - val_loss: 0.0494\n",
            "Epoch 6/80\n",
            "20/20 [==============================] - 0s 7ms/step - loss: 0.0065 - val_loss: 0.0503\n",
            "Epoch 7/80\n",
            "20/20 [==============================] - 0s 7ms/step - loss: 0.0059 - val_loss: 0.0379\n",
            "Epoch 8/80\n",
            "20/20 [==============================] - 0s 8ms/step - loss: 0.0068 - val_loss: 0.0391\n",
            "Epoch 9/80\n",
            "20/20 [==============================] - 0s 8ms/step - loss: 0.0068 - val_loss: 0.0358\n",
            "Epoch 10/80\n",
            "20/20 [==============================] - 0s 7ms/step - loss: 0.0066 - val_loss: 0.0688\n",
            "Epoch 11/80\n",
            "20/20 [==============================] - 0s 6ms/step - loss: 0.0054 - val_loss: 0.0343\n",
            "Epoch 12/80\n",
            "20/20 [==============================] - 0s 7ms/step - loss: 0.0051 - val_loss: 0.0336\n",
            "Epoch 13/80\n",
            "20/20 [==============================] - 0s 7ms/step - loss: 0.0054 - val_loss: 0.0319\n",
            "Epoch 14/80\n",
            "20/20 [==============================] - 0s 8ms/step - loss: 0.0059 - val_loss: 0.0341\n",
            "Epoch 15/80\n",
            "20/20 [==============================] - 0s 7ms/step - loss: 0.0054 - val_loss: 0.0265\n",
            "Epoch 16/80\n",
            "20/20 [==============================] - 0s 8ms/step - loss: 0.0070 - val_loss: 0.0275\n",
            "Epoch 17/80\n",
            "20/20 [==============================] - 0s 6ms/step - loss: 0.0058 - val_loss: 0.0294\n",
            "Epoch 18/80\n",
            "20/20 [==============================] - 0s 7ms/step - loss: 0.0070 - val_loss: 0.0386\n",
            "Epoch 19/80\n",
            "20/20 [==============================] - 0s 6ms/step - loss: 0.0060 - val_loss: 0.0260\n",
            "Epoch 20/80\n",
            "20/20 [==============================] - 0s 8ms/step - loss: 0.0061 - val_loss: 0.0433\n",
            "Epoch 21/80\n",
            "20/20 [==============================] - 0s 8ms/step - loss: 0.0066 - val_loss: 0.0463\n",
            "Epoch 22/80\n",
            "20/20 [==============================] - 0s 7ms/step - loss: 0.0084 - val_loss: 0.0665\n",
            "Epoch 23/80\n",
            "20/20 [==============================] - 0s 8ms/step - loss: 0.0058 - val_loss: 0.0297\n",
            "Epoch 24/80\n",
            "20/20 [==============================] - 0s 8ms/step - loss: 0.0059 - val_loss: 0.0305\n",
            "Epoch 25/80\n",
            "20/20 [==============================] - 0s 7ms/step - loss: 0.0074 - val_loss: 0.0316\n",
            "Epoch 26/80\n",
            "20/20 [==============================] - 0s 9ms/step - loss: 0.0072 - val_loss: 0.0266\n",
            "Epoch 27/80\n",
            "20/20 [==============================] - 0s 7ms/step - loss: 0.0056 - val_loss: 0.0284\n",
            "Epoch 28/80\n",
            "20/20 [==============================] - 0s 8ms/step - loss: 0.0055 - val_loss: 0.0281\n",
            "Epoch 29/80\n",
            "20/20 [==============================] - 0s 8ms/step - loss: 0.0060 - val_loss: 0.0331\n",
            "Epoch 30/80\n",
            "20/20 [==============================] - 0s 8ms/step - loss: 0.0060 - val_loss: 0.0381\n",
            "Epoch 31/80\n",
            "20/20 [==============================] - 0s 6ms/step - loss: 0.0065 - val_loss: 0.0366\n",
            "Epoch 32/80\n",
            "20/20 [==============================] - 0s 6ms/step - loss: 0.0067 - val_loss: 0.0404\n",
            "Epoch 33/80\n",
            "20/20 [==============================] - 0s 8ms/step - loss: 0.0058 - val_loss: 0.0419\n",
            "Epoch 34/80\n",
            "20/20 [==============================] - 0s 8ms/step - loss: 0.0062 - val_loss: 0.0322\n",
            "Epoch 35/80\n",
            "20/20 [==============================] - 0s 7ms/step - loss: 0.0072 - val_loss: 0.0387\n",
            "Epoch 36/80\n",
            "20/20 [==============================] - 0s 7ms/step - loss: 0.0058 - val_loss: 0.0296\n",
            "Epoch 37/80\n",
            "20/20 [==============================] - 0s 8ms/step - loss: 0.0071 - val_loss: 0.0314\n",
            "Epoch 38/80\n",
            "20/20 [==============================] - 0s 6ms/step - loss: 0.0066 - val_loss: 0.0370\n",
            "Epoch 39/80\n",
            "20/20 [==============================] - 0s 7ms/step - loss: 0.0059 - val_loss: 0.0427\n",
            "Epoch 40/80\n",
            "20/20 [==============================] - 0s 8ms/step - loss: 0.0055 - val_loss: 0.0314\n",
            "Epoch 41/80\n",
            "20/20 [==============================] - 0s 6ms/step - loss: 0.0055 - val_loss: 0.0264\n",
            "Epoch 42/80\n",
            "20/20 [==============================] - 0s 7ms/step - loss: 0.0055 - val_loss: 0.0234\n",
            "Epoch 43/80\n",
            "20/20 [==============================] - 0s 8ms/step - loss: 0.0071 - val_loss: 0.0256\n",
            "Epoch 44/80\n",
            "20/20 [==============================] - 0s 8ms/step - loss: 0.0082 - val_loss: 0.0462\n",
            "Epoch 45/80\n",
            "20/20 [==============================] - 0s 7ms/step - loss: 0.0067 - val_loss: 0.0432\n",
            "Epoch 46/80\n",
            "20/20 [==============================] - 0s 8ms/step - loss: 0.0055 - val_loss: 0.0234\n",
            "Epoch 47/80\n",
            "20/20 [==============================] - 0s 8ms/step - loss: 0.0067 - val_loss: 0.0319\n",
            "Epoch 48/80\n",
            "20/20 [==============================] - 0s 8ms/step - loss: 0.0075 - val_loss: 0.0239\n",
            "Epoch 49/80\n",
            "20/20 [==============================] - 0s 8ms/step - loss: 0.0061 - val_loss: 0.0442\n",
            "Epoch 50/80\n",
            "20/20 [==============================] - 0s 8ms/step - loss: 0.0070 - val_loss: 0.0206\n",
            "Epoch 51/80\n",
            "20/20 [==============================] - 0s 8ms/step - loss: 0.0073 - val_loss: 0.0317\n",
            "Epoch 52/80\n",
            "20/20 [==============================] - 0s 6ms/step - loss: 0.0064 - val_loss: 0.0194\n",
            "Epoch 53/80\n",
            "20/20 [==============================] - 0s 7ms/step - loss: 0.0052 - val_loss: 0.0219\n",
            "Epoch 54/80\n",
            "20/20 [==============================] - 0s 8ms/step - loss: 0.0056 - val_loss: 0.0234\n",
            "Epoch 55/80\n",
            "20/20 [==============================] - 0s 6ms/step - loss: 0.0061 - val_loss: 0.0274\n",
            "Epoch 56/80\n",
            "20/20 [==============================] - 0s 6ms/step - loss: 0.0058 - val_loss: 0.0250\n",
            "Epoch 57/80\n",
            "20/20 [==============================] - 0s 7ms/step - loss: 0.0056 - val_loss: 0.0258\n",
            "Epoch 58/80\n",
            "20/20 [==============================] - 0s 7ms/step - loss: 0.0058 - val_loss: 0.0369\n",
            "Epoch 59/80\n",
            "20/20 [==============================] - 0s 8ms/step - loss: 0.0061 - val_loss: 0.0248\n",
            "Epoch 60/80\n",
            "20/20 [==============================] - 0s 7ms/step - loss: 0.0057 - val_loss: 0.0225\n",
            "Epoch 61/80\n",
            "20/20 [==============================] - 0s 8ms/step - loss: 0.0065 - val_loss: 0.0308\n",
            "Epoch 62/80\n",
            "20/20 [==============================] - 0s 8ms/step - loss: 0.0060 - val_loss: 0.0212\n",
            "Epoch 63/80\n",
            "20/20 [==============================] - 0s 7ms/step - loss: 0.0056 - val_loss: 0.0261\n",
            "Epoch 64/80\n",
            "20/20 [==============================] - 0s 7ms/step - loss: 0.0062 - val_loss: 0.0273\n",
            "Epoch 65/80\n",
            "20/20 [==============================] - 0s 8ms/step - loss: 0.0058 - val_loss: 0.0250\n",
            "Epoch 66/80\n",
            "20/20 [==============================] - 0s 6ms/step - loss: 0.0059 - val_loss: 0.0355\n",
            "Epoch 67/80\n",
            "20/20 [==============================] - 0s 6ms/step - loss: 0.0065 - val_loss: 0.0395\n",
            "Epoch 68/80\n",
            "20/20 [==============================] - 0s 8ms/step - loss: 0.0068 - val_loss: 0.0250\n",
            "Epoch 69/80\n",
            "20/20 [==============================] - 0s 6ms/step - loss: 0.0058 - val_loss: 0.0227\n",
            "Epoch 70/80\n",
            "20/20 [==============================] - 0s 8ms/step - loss: 0.0059 - val_loss: 0.0230\n",
            "Epoch 71/80\n",
            "20/20 [==============================] - 0s 8ms/step - loss: 0.0080 - val_loss: 0.0209\n",
            "Epoch 72/80\n",
            "20/20 [==============================] - 0s 8ms/step - loss: 0.0057 - val_loss: 0.0279\n",
            "Epoch 73/80\n",
            "20/20 [==============================] - 0s 8ms/step - loss: 0.0056 - val_loss: 0.0333\n",
            "Epoch 74/80\n",
            "20/20 [==============================] - 0s 7ms/step - loss: 0.0056 - val_loss: 0.0361\n",
            "Epoch 75/80\n",
            "20/20 [==============================] - 0s 6ms/step - loss: 0.0061 - val_loss: 0.0240\n",
            "Epoch 76/80\n",
            "20/20 [==============================] - 0s 7ms/step - loss: 0.0053 - val_loss: 0.0201\n",
            "Epoch 77/80\n",
            "20/20 [==============================] - 0s 6ms/step - loss: 0.0052 - val_loss: 0.0291\n",
            "Epoch 78/80\n",
            "20/20 [==============================] - 0s 6ms/step - loss: 0.0059 - val_loss: 0.0437\n",
            "Epoch 79/80\n",
            "20/20 [==============================] - 0s 6ms/step - loss: 0.0053 - val_loss: 0.0275\n",
            "Epoch 80/80\n",
            "20/20 [==============================] - 0s 8ms/step - loss: 0.0056 - val_loss: 0.0221\n"
          ]
        }
      ]
    },
    {
      "cell_type": "code",
      "source": [
        "plt.plot(r.history['loss'], label='loss')\n",
        "plt.plot(r.history['val_loss'], label='val_loss')\n",
        "plt.legend()"
      ],
      "metadata": {
        "colab": {
          "base_uri": "https://localhost:8080/",
          "height": 282
        },
        "id": "gJ9FR1PqMlMG",
        "outputId": "30026bf4-f8bc-4ecc-935d-1c309f2b1b03"
      },
      "execution_count": 75,
      "outputs": [
        {
          "output_type": "execute_result",
          "data": {
            "text/plain": [
              "<matplotlib.legend.Legend at 0x7f9540dedc50>"
            ]
          },
          "metadata": {},
          "execution_count": 75
        },
        {
          "output_type": "display_data",
          "data": {
            "text/plain": [
              "<Figure size 432x288 with 1 Axes>"
            ],
            "image/png": "[encoded data removed]"
          },
          "metadata": {
            "needs_background": "light"
          }
        }
      ]
    },
    {
      "cell_type": "code",
      "source": [
        "# one-step forecast usign true targets\n",
        "outputs = model.predict(X)\n",
        "print(outputs.shape)\n",
        "predictions = outputs[:,0]\n",
        "plt.plot(Y, label='targets')\n",
        "plt.plot(predictions, label='predictions')\n",
        "plt.legend()\n",
        "plt.show()"
      ],
      "metadata": {
        "id": "Xsc8KPLSKM7P",
        "colab": {
          "base_uri": "https://localhost:8080/",
          "height": 282
        },
        "outputId": "0a70406f-4f79-44ec-ff35-c1096a75f578"
      },
      "execution_count": 76,
      "outputs": [
        {
          "output_type": "stream",
          "name": "stdout",
          "text": [
            "(1249, 1)\n"
          ]
        },
        {
          "output_type": "display_data",
          "data": {
            "text/plain": [
              "<Figure size 432x288 with 1 Axes>"
            ],
            "image/png": "[encoded data removed]"
          },
          "metadata": {
            "needs_background": "light"
          }
        }
      ]
    },
    {
      "cell_type": "code",
      "source": [
        "# multi-step forecast usign true targets\n",
        "validation_target = Y[-N//2:]\n",
        "validation_predictions = []\n",
        "\n",
        "#last train input\n",
        "last_x = X[-N//2]\n",
        "while len(validation_predictions) < len(validation_target):\n",
        "  p = model.predict(last_x.reshape(1, T, 1))[0,0]\n",
        "  validation_predictions.append(p)\n",
        "  last_x = np.roll(last_x, -1)\n",
        "  last_x[-1] = p\n",
        "\n",
        "plt.plot(validation_target, label='forecast target')\n",
        "plt.plot(validation_predictions, label='predictions')\n",
        "plt.legend()\n",
        "plt.show()"
      ],
      "metadata": {
        "colab": {
          "base_uri": "https://localhost:8080/",
          "height": 265
        },
        "id": "zGi__ZM92q1l",
        "outputId": "e80be2ea-5d8d-47bc-cbef-bcabaea73b4f"
      },
      "execution_count": 78,
      "outputs": [
        {
          "output_type": "display_data",
          "data": {
            "text/plain": [
              "<Figure size 432x288 with 1 Axes>"
            ],
            "image/png": "[encoded data removed]"
          },
          "metadata": {
            "needs_background": "light"
          }
        }
      ]
    },
    {
      "cell_type": "code",
      "source": [
        "df['PrevClose'] = df['close'].shift(1)"
      ],
      "metadata": {
        "id": "-p39cyP8NLGF"
      },
      "execution_count": 79,
      "outputs": []
    },
    {
      "cell_type": "code",
      "source": [
        "df['Return'] = (df['close'] - df['PrevClose'])/df['PrevClose']"
      ],
      "metadata": {
        "id": "c3tBY0gw7P_t"
      },
      "execution_count": 80,
      "outputs": []
    },
    {
      "cell_type": "code",
      "source": [
        "df['Return'].hist()"
      ],
      "metadata": {
        "colab": {
          "base_uri": "https://localhost:8080/",
          "height": 282
        },
        "id": "wlkJRxrjNV17",
        "outputId": "56bd9640-e75b-453c-f586-f6faa04fbab4"
      },
      "execution_count": 81,
      "outputs": [
        {
          "output_type": "execute_result",
          "data": {
            "text/plain": [
              "<matplotlib.axes._subplots.AxesSubplot at 0x7f95401bcfd0>"
            ]
          },
          "metadata": {},
          "execution_count": 81
        },
        {
          "output_type": "display_data",
          "data": {
            "text/plain": [
              "<Figure size 432x288 with 1 Axes>"
            ],
            "image/png": "[encoded data removed]"
          },
          "metadata": {
            "needs_background": "light"
          }
        }
      ]
    },
    {
      "cell_type": "code",
      "source": [
        "series = df['Return'].values[1:].reshape(-1, 1)\n",
        "# normalize the data\n",
        "scaler = StandardScaler()\n",
        "scaler.fit(series[:len(series) // 2])\n",
        "series = scaler.transform(series).flatten()"
      ],
      "metadata": {
        "id": "0nFGKM3oNX7u"
      },
      "execution_count": 82,
      "outputs": []
    },
    {
      "cell_type": "code",
      "source": [
        "# build the dataset\n",
        "\n",
        "T = 10\n",
        "D = 1\n",
        "X = []\n",
        "Y = []\n",
        "for t in range(len(series) - T):\n",
        "  x = series[t:t+T]\n",
        "  X = np.append(X, x)\n",
        "  y = series[t+T]\n",
        "  Y = np.append(Y, y)\n",
        "\n",
        "X = np.array(X).reshape(-1, T, 1)\n",
        "Y = np.array(Y)\n",
        "N = len(X)\n",
        "print(\"X.shape\", X.shape, \"Y.shape\", Y.shape)"
      ],
      "metadata": {
        "colab": {
          "base_uri": "https://localhost:8080/"
        },
        "id": "MN1w3I7ENZtv",
        "outputId": "c4951aa2-a8bc-43a5-b2b1-e2825e0a271c"
      },
      "execution_count": 83,
      "outputs": [
        {
          "output_type": "stream",
          "name": "stdout",
          "text": [
            "X.shape (1248, 10, 1) Y.shape (1248,)\n"
          ]
        }
      ]
    },
    {
      "cell_type": "code",
      "source": [
        "# try autogregressive RNN model\n",
        "i = Input(shape=(T, 1))\n",
        "x = LSTM(5)(i)\n",
        "x = Dense(1)(x)\n",
        "model = Model(i, x)\n",
        "model.compile(\n",
        "    loss = 'mse',\n",
        "    optimizer=Adam(lr=0.1),\n",
        ")\n",
        "\n",
        "# train the rnn\n",
        "r = model.fit(\n",
        "    X[:-N//2], Y[:-N//2],\n",
        "    epochs=80,\n",
        "    validation_data=(X[-N//2:], Y[-N//2:]),\n",
        ")"
      ],
      "metadata": {
        "colab": {
          "base_uri": "https://localhost:8080/"
        },
        "id": "YAvvmAnj8AAh",
        "outputId": "226dfd63-2e2e-44e7-8e76-ad5ecd76215f"
      },
      "execution_count": 84,
      "outputs": [
        {
          "output_type": "stream",
          "name": "stdout",
          "text": [
            "Epoch 1/80\n"
          ]
        },
        {
          "output_type": "stream",
          "name": "stderr",
          "text": [
            "/usr/local/lib/python3.7/dist-packages/keras/optimizer_v2/adam.py:105: UserWarning: The `lr` argument is deprecated, use `learning_rate` instead.\n",
            "  super(Adam, self).__init__(name, **kwargs)\n"
          ]
        },
        {
          "output_type": "stream",
          "name": "stdout",
          "text": [
            "20/20 [==============================] - 2s 26ms/step - loss: 1.0224 - val_loss: 1.1399\n",
            "Epoch 2/80\n",
            "20/20 [==============================] - 0s 7ms/step - loss: 0.9981 - val_loss: 1.1328\n",
            "Epoch 3/80\n",
            "20/20 [==============================] - 0s 8ms/step - loss: 0.9884 - val_loss: 1.1598\n",
            "Epoch 4/80\n",
            "20/20 [==============================] - 0s 7ms/step - loss: 0.9866 - val_loss: 1.1576\n",
            "Epoch 5/80\n",
            "20/20 [==============================] - 0s 7ms/step - loss: 0.9789 - val_loss: 1.2305\n",
            "Epoch 6/80\n",
            "20/20 [==============================] - 0s 8ms/step - loss: 0.9746 - val_loss: 1.1907\n",
            "Epoch 7/80\n",
            "20/20 [==============================] - 0s 6ms/step - loss: 0.9731 - val_loss: 1.2661\n",
            "Epoch 8/80\n",
            "20/20 [==============================] - 0s 6ms/step - loss: 0.9667 - val_loss: 1.2094\n",
            "Epoch 9/80\n",
            "20/20 [==============================] - 0s 6ms/step - loss: 0.9602 - val_loss: 1.2167\n",
            "Epoch 10/80\n",
            "20/20 [==============================] - 0s 6ms/step - loss: 0.9758 - val_loss: 1.2042\n",
            "Epoch 11/80\n",
            "20/20 [==============================] - 0s 7ms/step - loss: 0.9882 - val_loss: 1.1679\n",
            "Epoch 12/80\n",
            "20/20 [==============================] - 0s 7ms/step - loss: 0.9592 - val_loss: 1.2753\n",
            "Epoch 13/80\n",
            "20/20 [==============================] - 0s 8ms/step - loss: 0.9506 - val_loss: 1.1918\n",
            "Epoch 14/80\n",
            "20/20 [==============================] - 0s 8ms/step - loss: 0.9357 - val_loss: 1.2371\n",
            "Epoch 15/80\n",
            "20/20 [==============================] - 0s 8ms/step - loss: 0.9312 - val_loss: 1.2062\n",
            "Epoch 16/80\n",
            "20/20 [==============================] - 0s 6ms/step - loss: 0.9766 - val_loss: 1.1729\n",
            "Epoch 17/80\n",
            "20/20 [==============================] - 0s 8ms/step - loss: 0.9894 - val_loss: 1.1848\n",
            "Epoch 18/80\n",
            "20/20 [==============================] - 0s 8ms/step - loss: 0.9808 - val_loss: 1.1599\n",
            "Epoch 19/80\n",
            "20/20 [==============================] - 0s 7ms/step - loss: 0.9711 - val_loss: 1.1749\n",
            "Epoch 20/80\n",
            "20/20 [==============================] - 0s 8ms/step - loss: 0.9755 - val_loss: 1.1982\n",
            "Epoch 21/80\n",
            "20/20 [==============================] - 0s 8ms/step - loss: 0.9632 - val_loss: 1.1508\n",
            "Epoch 22/80\n",
            "20/20 [==============================] - 0s 8ms/step - loss: 0.9645 - val_loss: 1.1732\n",
            "Epoch 23/80\n",
            "20/20 [==============================] - 0s 6ms/step - loss: 0.9827 - val_loss: 1.1661\n",
            "Epoch 24/80\n",
            "20/20 [==============================] - 0s 7ms/step - loss: 0.9597 - val_loss: 1.1699\n",
            "Epoch 25/80\n",
            "20/20 [==============================] - 0s 7ms/step - loss: 0.9601 - val_loss: 1.1748\n",
            "Epoch 26/80\n",
            "20/20 [==============================] - 0s 8ms/step - loss: 0.9665 - val_loss: 1.1862\n",
            "Epoch 27/80\n",
            "20/20 [==============================] - 0s 6ms/step - loss: 0.9648 - val_loss: 1.1544\n",
            "Epoch 28/80\n",
            "20/20 [==============================] - 0s 8ms/step - loss: 0.9373 - val_loss: 1.1912\n",
            "Epoch 29/80\n",
            "20/20 [==============================] - 0s 6ms/step - loss: 0.9475 - val_loss: 1.1909\n",
            "Epoch 30/80\n",
            "20/20 [==============================] - 0s 8ms/step - loss: 0.9173 - val_loss: 1.2596\n",
            "Epoch 31/80\n",
            "20/20 [==============================] - 0s 7ms/step - loss: 0.9281 - val_loss: 1.1848\n",
            "Epoch 32/80\n",
            "20/20 [==============================] - 0s 7ms/step - loss: 0.9406 - val_loss: 1.1839\n",
            "Epoch 33/80\n",
            "20/20 [==============================] - 0s 8ms/step - loss: 0.9292 - val_loss: 1.1701\n",
            "Epoch 34/80\n",
            "20/20 [==============================] - 0s 6ms/step - loss: 0.9485 - val_loss: 1.2361\n",
            "Epoch 35/80\n",
            "20/20 [==============================] - 0s 6ms/step - loss: 0.9305 - val_loss: 1.1932\n",
            "Epoch 36/80\n",
            "20/20 [==============================] - 0s 8ms/step - loss: 0.9403 - val_loss: 1.1893\n",
            "Epoch 37/80\n",
            "20/20 [==============================] - 0s 7ms/step - loss: 0.9326 - val_loss: 1.1701\n",
            "Epoch 38/80\n",
            "20/20 [==============================] - 0s 9ms/step - loss: 0.9302 - val_loss: 1.1916\n",
            "Epoch 39/80\n",
            "20/20 [==============================] - 0s 8ms/step - loss: 0.9570 - val_loss: 1.2648\n",
            "Epoch 40/80\n",
            "20/20 [==============================] - 0s 7ms/step - loss: 0.9172 - val_loss: 1.1848\n",
            "Epoch 41/80\n",
            "20/20 [==============================] - 0s 8ms/step - loss: 0.9252 - val_loss: 1.1957\n",
            "Epoch 42/80\n",
            "20/20 [==============================] - 0s 6ms/step - loss: 0.9315 - val_loss: 1.2078\n",
            "Epoch 43/80\n",
            "20/20 [==============================] - 0s 8ms/step - loss: 0.9168 - val_loss: 1.2030\n",
            "Epoch 44/80\n",
            "20/20 [==============================] - 0s 7ms/step - loss: 0.9173 - val_loss: 1.2422\n",
            "Epoch 45/80\n",
            "20/20 [==============================] - 0s 7ms/step - loss: 0.9185 - val_loss: 1.2622\n",
            "Epoch 46/80\n",
            "20/20 [==============================] - 0s 6ms/step - loss: 0.9096 - val_loss: 1.2411\n",
            "Epoch 47/80\n",
            "20/20 [==============================] - 0s 6ms/step - loss: 0.9173 - val_loss: 1.2137\n",
            "Epoch 48/80\n",
            "20/20 [==============================] - 0s 8ms/step - loss: 0.9312 - val_loss: 1.2303\n",
            "Epoch 49/80\n",
            "20/20 [==============================] - 0s 7ms/step - loss: 0.9234 - val_loss: 1.2302\n",
            "Epoch 50/80\n",
            "20/20 [==============================] - 0s 6ms/step - loss: 0.9165 - val_loss: 1.3009\n",
            "Epoch 51/80\n",
            "20/20 [==============================] - 0s 7ms/step - loss: 0.9075 - val_loss: 1.3145\n",
            "Epoch 52/80\n",
            "20/20 [==============================] - 0s 8ms/step - loss: 0.9733 - val_loss: 1.2285\n",
            "Epoch 53/80\n",
            "20/20 [==============================] - 0s 6ms/step - loss: 0.9525 - val_loss: 1.2249\n",
            "Epoch 54/80\n",
            "20/20 [==============================] - 0s 7ms/step - loss: 0.9634 - val_loss: 1.1967\n",
            "Epoch 55/80\n",
            "20/20 [==============================] - 0s 8ms/step - loss: 0.9665 - val_loss: 1.2033\n",
            "Epoch 56/80\n",
            "20/20 [==============================] - 0s 8ms/step - loss: 0.9526 - val_loss: 1.2136\n",
            "Epoch 57/80\n",
            "20/20 [==============================] - 0s 7ms/step - loss: 0.9534 - val_loss: 1.2431\n",
            "Epoch 58/80\n",
            "20/20 [==============================] - 0s 6ms/step - loss: 0.9376 - val_loss: 1.2658\n",
            "Epoch 59/80\n",
            "20/20 [==============================] - 0s 7ms/step - loss: 0.9250 - val_loss: 1.2434\n",
            "Epoch 60/80\n",
            "20/20 [==============================] - 0s 7ms/step - loss: 0.9338 - val_loss: 1.3005\n",
            "Epoch 61/80\n",
            "20/20 [==============================] - 0s 7ms/step - loss: 0.9293 - val_loss: 1.2428\n",
            "Epoch 62/80\n",
            "20/20 [==============================] - 0s 8ms/step - loss: 0.9099 - val_loss: 1.3573\n",
            "Epoch 63/80\n",
            "20/20 [==============================] - 0s 6ms/step - loss: 0.9066 - val_loss: 1.2615\n",
            "Epoch 64/80\n",
            "20/20 [==============================] - 0s 8ms/step - loss: 0.9260 - val_loss: 1.3492\n",
            "Epoch 65/80\n",
            "20/20 [==============================] - 0s 7ms/step - loss: 0.9151 - val_loss: 1.3384\n",
            "Epoch 66/80\n",
            "20/20 [==============================] - 0s 7ms/step - loss: 0.9434 - val_loss: 1.2328\n",
            "Epoch 67/80\n",
            "20/20 [==============================] - 0s 7ms/step - loss: 0.9254 - val_loss: 1.2895\n",
            "Epoch 68/80\n",
            "20/20 [==============================] - 0s 7ms/step - loss: 0.9301 - val_loss: 1.2332\n",
            "Epoch 69/80\n",
            "20/20 [==============================] - 0s 6ms/step - loss: 0.9126 - val_loss: 1.3078\n",
            "Epoch 70/80\n",
            "20/20 [==============================] - 0s 7ms/step - loss: 0.9087 - val_loss: 1.2396\n",
            "Epoch 71/80\n",
            "20/20 [==============================] - 0s 8ms/step - loss: 0.9119 - val_loss: 1.2908\n",
            "Epoch 72/80\n",
            "20/20 [==============================] - 0s 8ms/step - loss: 0.9159 - val_loss: 1.2604\n",
            "Epoch 73/80\n",
            "20/20 [==============================] - 0s 8ms/step - loss: 0.9336 - val_loss: 1.2466\n",
            "Epoch 74/80\n",
            "20/20 [==============================] - 0s 6ms/step - loss: 0.9434 - val_loss: 1.2075\n",
            "Epoch 75/80\n",
            "20/20 [==============================] - 0s 8ms/step - loss: 0.9398 - val_loss: 1.2401\n",
            "Epoch 76/80\n",
            "20/20 [==============================] - 0s 7ms/step - loss: 0.9265 - val_loss: 1.2514\n",
            "Epoch 77/80\n",
            "20/20 [==============================] - 0s 7ms/step - loss: 0.8930 - val_loss: 1.2780\n",
            "Epoch 78/80\n",
            "20/20 [==============================] - 0s 7ms/step - loss: 0.9491 - val_loss: 1.2613\n",
            "Epoch 79/80\n",
            "20/20 [==============================] - 0s 8ms/step - loss: 0.9657 - val_loss: 1.2103\n",
            "Epoch 80/80\n",
            "20/20 [==============================] - 0s 7ms/step - loss: 0.9433 - val_loss: 1.2435\n"
          ]
        }
      ]
    },
    {
      "cell_type": "code",
      "source": [
        "plt.plot(r.history['loss'], label='loss')\n",
        "plt.plot(r.history['val_loss'], label='val_loss')\n",
        "plt.legend()"
      ],
      "metadata": {
        "id": "oFYn9nEcNmw8",
        "colab": {
          "base_uri": "https://localhost:8080/",
          "height": 282
        },
        "outputId": "91454f04-2a1d-4b48-a48b-bad9a48c4ae1"
      },
      "execution_count": 85,
      "outputs": [
        {
          "output_type": "execute_result",
          "data": {
            "text/plain": [
              "<matplotlib.legend.Legend at 0x7f953ff33e50>"
            ]
          },
          "metadata": {},
          "execution_count": 85
        },
        {
          "output_type": "display_data",
          "data": {
            "text/plain": [
              "<Figure size 432x288 with 1 Axes>"
            ],
            "image/png": "[encoded data removed]"
          },
          "metadata": {
            "needs_background": "light"
          }
        }
      ]
    },
    {
      "cell_type": "code",
      "source": [
        "# one-step forecast usign true targets\n",
        "outputs = model.predict(X)\n",
        "print(outputs.shape)\n",
        "predictions = outputs[:,0]\n",
        "plt.plot(Y, label='targets')\n",
        "plt.plot(predictions, label='predictions')\n",
        "plt.legend()\n",
        "plt.show()"
      ],
      "metadata": {
        "colab": {
          "base_uri": "https://localhost:8080/",
          "height": 282
        },
        "id": "xgvGRWHFNoaa",
        "outputId": "fb4c540a-fb89-4fd2-875d-f6477632e46f"
      },
      "execution_count": 86,
      "outputs": [
        {
          "output_type": "stream",
          "name": "stdout",
          "text": [
            "(1248, 1)\n"
          ]
        },
        {
          "output_type": "display_data",
          "data": {
            "text/plain": [
              "<Figure size 432x288 with 1 Axes>"
            ],
            "image/png": "[encoded data removed]"
          },
          "metadata": {
            "needs_background": "light"
          }
        }
      ]
    },
    {
      "cell_type": "code",
      "source": [
        "# multi-step forecast usign true targets\n",
        "validation_target = Y[-N//2:]\n",
        "validation_predictions = []\n",
        "\n",
        "#last train input\n",
        "last_x = X[-N//2]\n",
        "while len(validation_predictions) < len(validation_target):\n",
        "  p = model.predict(last_x.reshape(1, T, 1))[0,0]\n",
        "  validation_predictions.append(p)\n",
        "  last_x = np.roll(last_x, -1)\n",
        "  last_x[-1] = p\n",
        "\n",
        "plt.plot(validation_target, label='forecast target')\n",
        "plt.plot(validation_predictions, label='predictions')\n",
        "plt.legend()\n",
        "plt.show()"
      ],
      "metadata": {
        "colab": {
          "base_uri": "https://localhost:8080/",
          "height": 265
        },
        "id": "UPg_ypOeNqLW",
        "outputId": "8542c6fc-30c8-4485-f981-ada8d87aeb45"
      },
      "execution_count": 87,
      "outputs": [
        {
          "output_type": "display_data",
          "data": {
            "text/plain": [
              "<Figure size 432x288 with 1 Axes>"
            ],
            "image/png": "[encoded data removed]"
          },
          "metadata": {
            "needs_background": "light"
          }
        }
      ]
    },
    {
      "cell_type": "code",
      "source": [
        "#now turn the data input numpy arrays\n",
        "\n",
        "input_data = df[['open', 'high', 'low', 'close', 'volume']].values\n",
        "targets = df['Return'].values"
      ],
      "metadata": {
        "id": "bKEJDeBWN7ir"
      },
      "execution_count": 88,
      "outputs": []
    },
    {
      "cell_type": "code",
      "source": [
        "# make T x D x data\n",
        "T = 10\n",
        "D = input_data.shape[1]\n",
        "N = len(input_data) - T"
      ],
      "metadata": {
        "id": "0ZaSjXqW-2ji"
      },
      "execution_count": 89,
      "outputs": []
    },
    {
      "cell_type": "code",
      "source": [
        "#normalize input\n",
        "Ntrain = len(input_data) * 2 // 3\n",
        "scaler = StandardScaler()\n",
        "scaler.fit(input_data[:Ntrain + T])\n",
        "input_data = scaler.transform(input_data)"
      ],
      "metadata": {
        "id": "h3owSgkM-_ok"
      },
      "execution_count": 90,
      "outputs": []
    },
    {
      "cell_type": "code",
      "source": [
        "# setup X_train and Y_train\n",
        "X_train = np.zeros((Ntrain, T, D))\n",
        "Y_train = np.zeros(Ntrain)\n",
        "\n",
        "for t in range(Ntrain):\n",
        "  X_train[t, :, :] = input_data[t:t+T]\n",
        "  Y_train[t] = (targets[t+T] > 0)"
      ],
      "metadata": {
        "id": "vc_CAd9H-_q9"
      },
      "execution_count": 91,
      "outputs": []
    },
    {
      "cell_type": "code",
      "source": [
        "# setup X_test and Y_test\n",
        "X_test = np.zeros((N-Ntrain, T, D))\n",
        "Y_test = np.zeros(N-Ntrain)\n",
        "\n",
        "for u in range(N-Ntrain):\n",
        "  t = u+Ntrain\n",
        "  X_test[u, :, :] = input_data[t:t+T]\n",
        "  Y_test[u] = (targets[t+T] > 0)"
      ],
      "metadata": {
        "id": "ZAMdF8mq-_wW"
      },
      "execution_count": 92,
      "outputs": []
    },
    {
      "cell_type": "code",
      "source": [
        "# make the RNN\n",
        "i = Input(shape=(T, D))\n",
        "x = LSTM(50)(i)\n",
        "x = Dense(1, activation='sigmoid')(x)\n",
        "model = Model(i, x)\n",
        "model.compile(loss = 'binary_crossentropy',\n",
        "              optimizer=Adam(lr=0.001),\n",
        "              metrics=['accuracy'])\n"
      ],
      "metadata": {
        "colab": {
          "base_uri": "https://localhost:8080/"
        },
        "id": "aD1Lltp7-_zC",
        "outputId": "638fd40b-4346-43d3-c5c2-7699856c8bfc"
      },
      "execution_count": 93,
      "outputs": [
        {
          "output_type": "stream",
          "name": "stderr",
          "text": [
            "/usr/local/lib/python3.7/dist-packages/keras/optimizer_v2/adam.py:105: UserWarning: The `lr` argument is deprecated, use `learning_rate` instead.\n",
            "  super(Adam, self).__init__(name, **kwargs)\n"
          ]
        }
      ]
    },
    {
      "cell_type": "code",
      "source": [
        "# train the rnn\n",
        "r = model.fit(X_train, Y_train, batch_size=32,epochs=300, validation_data=(X_test, Y_test))"
      ],
      "metadata": {
        "colab": {
          "base_uri": "https://localhost:8080/"
        },
        "id": "4hh0m8aNAUxi",
        "outputId": "807acb9d-ae34-4c2c-92e1-c0beed91f92a"
      },
      "execution_count": 94,
      "outputs": [
        {
          "output_type": "stream",
          "name": "stdout",
          "text": [
            "Epoch 1/300\n",
            "27/27 [==============================] - 2s 23ms/step - loss: 0.6942 - accuracy: 0.5006 - val_loss: 0.6957 - val_accuracy: 0.4854\n",
            "Epoch 2/300\n",
            "27/27 [==============================] - 0s 6ms/step - loss: 0.6926 - accuracy: 0.5292 - val_loss: 0.6916 - val_accuracy: 0.5439\n",
            "Epoch 3/300\n",
            "27/27 [==============================] - 0s 6ms/step - loss: 0.6927 - accuracy: 0.5018 - val_loss: 0.6933 - val_accuracy: 0.4927\n",
            "Epoch 4/300\n",
            "27/27 [==============================] - 0s 6ms/step - loss: 0.6915 - accuracy: 0.5316 - val_loss: 0.6912 - val_accuracy: 0.5439\n",
            "Epoch 5/300\n",
            "27/27 [==============================] - 0s 6ms/step - loss: 0.6909 - accuracy: 0.5244 - val_loss: 0.6919 - val_accuracy: 0.5195\n",
            "Epoch 6/300\n",
            "27/27 [==============================] - 0s 7ms/step - loss: 0.6923 - accuracy: 0.5089 - val_loss: 0.6924 - val_accuracy: 0.5098\n",
            "Epoch 7/300\n",
            "27/27 [==============================] - 0s 6ms/step - loss: 0.6900 - accuracy: 0.5316 - val_loss: 0.6904 - val_accuracy: 0.5341\n",
            "Epoch 8/300\n",
            "27/27 [==============================] - 0s 8ms/step - loss: 0.6906 - accuracy: 0.5364 - val_loss: 0.6945 - val_accuracy: 0.4927\n",
            "Epoch 9/300\n",
            "27/27 [==============================] - 0s 7ms/step - loss: 0.6888 - accuracy: 0.5387 - val_loss: 0.6905 - val_accuracy: 0.5390\n",
            "Epoch 10/300\n",
            "27/27 [==============================] - 0s 6ms/step - loss: 0.6883 - accuracy: 0.5399 - val_loss: 0.6933 - val_accuracy: 0.5049\n",
            "Epoch 11/300\n",
            "27/27 [==============================] - 0s 7ms/step - loss: 0.6886 - accuracy: 0.5280 - val_loss: 0.6951 - val_accuracy: 0.4878\n",
            "Epoch 12/300\n",
            "27/27 [==============================] - 0s 6ms/step - loss: 0.6908 - accuracy: 0.5364 - val_loss: 0.6971 - val_accuracy: 0.5000\n",
            "Epoch 13/300\n",
            "27/27 [==============================] - 0s 6ms/step - loss: 0.6882 - accuracy: 0.5423 - val_loss: 0.6907 - val_accuracy: 0.5317\n",
            "Epoch 14/300\n",
            "27/27 [==============================] - 0s 6ms/step - loss: 0.6869 - accuracy: 0.5495 - val_loss: 0.6929 - val_accuracy: 0.5122\n",
            "Epoch 15/300\n",
            "27/27 [==============================] - 0s 6ms/step - loss: 0.6865 - accuracy: 0.5411 - val_loss: 0.6943 - val_accuracy: 0.4878\n",
            "Epoch 16/300\n",
            "27/27 [==============================] - 0s 8ms/step - loss: 0.6878 - accuracy: 0.5459 - val_loss: 0.6958 - val_accuracy: 0.4902\n",
            "Epoch 17/300\n",
            "27/27 [==============================] - 0s 7ms/step - loss: 0.6864 - accuracy: 0.5590 - val_loss: 0.6905 - val_accuracy: 0.5220\n",
            "Epoch 18/300\n",
            "27/27 [==============================] - 0s 6ms/step - loss: 0.6862 - accuracy: 0.5507 - val_loss: 0.6942 - val_accuracy: 0.4951\n",
            "Epoch 19/300\n",
            "27/27 [==============================] - 0s 6ms/step - loss: 0.6860 - accuracy: 0.5447 - val_loss: 0.6921 - val_accuracy: 0.5220\n",
            "Epoch 20/300\n",
            "27/27 [==============================] - 0s 7ms/step - loss: 0.6862 - accuracy: 0.5542 - val_loss: 0.6918 - val_accuracy: 0.5171\n",
            "Epoch 21/300\n",
            "27/27 [==============================] - 0s 7ms/step - loss: 0.6845 - accuracy: 0.5638 - val_loss: 0.6936 - val_accuracy: 0.5268\n",
            "Epoch 22/300\n",
            "27/27 [==============================] - 0s 7ms/step - loss: 0.6866 - accuracy: 0.5459 - val_loss: 0.6919 - val_accuracy: 0.5146\n",
            "Epoch 23/300\n",
            "27/27 [==============================] - 0s 6ms/step - loss: 0.6857 - accuracy: 0.5411 - val_loss: 0.7017 - val_accuracy: 0.4951\n",
            "Epoch 24/300\n",
            "27/27 [==============================] - 0s 6ms/step - loss: 0.6844 - accuracy: 0.5447 - val_loss: 0.7008 - val_accuracy: 0.5000\n",
            "Epoch 25/300\n",
            "27/27 [==============================] - 0s 6ms/step - loss: 0.6838 - accuracy: 0.5530 - val_loss: 0.6943 - val_accuracy: 0.5244\n",
            "Epoch 26/300\n",
            "27/27 [==============================] - 0s 6ms/step - loss: 0.6840 - accuracy: 0.5602 - val_loss: 0.6952 - val_accuracy: 0.5122\n",
            "Epoch 27/300\n",
            "27/27 [==============================] - 0s 6ms/step - loss: 0.6840 - accuracy: 0.5626 - val_loss: 0.6952 - val_accuracy: 0.5146\n",
            "Epoch 28/300\n",
            "27/27 [==============================] - 0s 8ms/step - loss: 0.6820 - accuracy: 0.5614 - val_loss: 0.6946 - val_accuracy: 0.5146\n",
            "Epoch 29/300\n",
            "27/27 [==============================] - 0s 6ms/step - loss: 0.6820 - accuracy: 0.5602 - val_loss: 0.6981 - val_accuracy: 0.5000\n",
            "Epoch 30/300\n",
            "27/27 [==============================] - 0s 7ms/step - loss: 0.6809 - accuracy: 0.5626 - val_loss: 0.6940 - val_accuracy: 0.5195\n",
            "Epoch 31/300\n",
            "27/27 [==============================] - 0s 7ms/step - loss: 0.6809 - accuracy: 0.5816 - val_loss: 0.6966 - val_accuracy: 0.5049\n",
            "Epoch 32/300\n",
            "27/27 [==============================] - 0s 8ms/step - loss: 0.6797 - accuracy: 0.5816 - val_loss: 0.6956 - val_accuracy: 0.5195\n",
            "Epoch 33/300\n",
            "27/27 [==============================] - 0s 6ms/step - loss: 0.6819 - accuracy: 0.5685 - val_loss: 0.6985 - val_accuracy: 0.5000\n",
            "Epoch 34/300\n",
            "27/27 [==============================] - 0s 6ms/step - loss: 0.6825 - accuracy: 0.5769 - val_loss: 0.6957 - val_accuracy: 0.5220\n",
            "Epoch 35/300\n",
            "27/27 [==============================] - 0s 7ms/step - loss: 0.6790 - accuracy: 0.5721 - val_loss: 0.6967 - val_accuracy: 0.5122\n",
            "Epoch 36/300\n",
            "27/27 [==============================] - 0s 6ms/step - loss: 0.6783 - accuracy: 0.5626 - val_loss: 0.6983 - val_accuracy: 0.5073\n",
            "Epoch 37/300\n",
            "27/27 [==============================] - 0s 8ms/step - loss: 0.6799 - accuracy: 0.5626 - val_loss: 0.6945 - val_accuracy: 0.5195\n",
            "Epoch 38/300\n",
            "27/27 [==============================] - 0s 7ms/step - loss: 0.6778 - accuracy: 0.5697 - val_loss: 0.6976 - val_accuracy: 0.5220\n",
            "Epoch 39/300\n",
            "27/27 [==============================] - 0s 6ms/step - loss: 0.6765 - accuracy: 0.5685 - val_loss: 0.6961 - val_accuracy: 0.5293\n",
            "Epoch 40/300\n",
            "27/27 [==============================] - 0s 8ms/step - loss: 0.6796 - accuracy: 0.5697 - val_loss: 0.6981 - val_accuracy: 0.5049\n",
            "Epoch 41/300\n",
            "27/27 [==============================] - 0s 6ms/step - loss: 0.6776 - accuracy: 0.5650 - val_loss: 0.6973 - val_accuracy: 0.5195\n",
            "Epoch 42/300\n",
            "27/27 [==============================] - 0s 7ms/step - loss: 0.6767 - accuracy: 0.5769 - val_loss: 0.7016 - val_accuracy: 0.5000\n",
            "Epoch 43/300\n",
            "27/27 [==============================] - 0s 7ms/step - loss: 0.6752 - accuracy: 0.5650 - val_loss: 0.6976 - val_accuracy: 0.5220\n",
            "Epoch 44/300\n",
            "27/27 [==============================] - 0s 8ms/step - loss: 0.6764 - accuracy: 0.5662 - val_loss: 0.7012 - val_accuracy: 0.5122\n",
            "Epoch 45/300\n",
            "27/27 [==============================] - 0s 6ms/step - loss: 0.6746 - accuracy: 0.5721 - val_loss: 0.6962 - val_accuracy: 0.5195\n",
            "Epoch 46/300\n",
            "27/27 [==============================] - 0s 7ms/step - loss: 0.6748 - accuracy: 0.5697 - val_loss: 0.6999 - val_accuracy: 0.5049\n",
            "Epoch 47/300\n",
            "27/27 [==============================] - 0s 7ms/step - loss: 0.6741 - accuracy: 0.5542 - val_loss: 0.6993 - val_accuracy: 0.5171\n",
            "Epoch 48/300\n",
            "27/27 [==============================] - 0s 8ms/step - loss: 0.6745 - accuracy: 0.5721 - val_loss: 0.6983 - val_accuracy: 0.5171\n",
            "Epoch 49/300\n",
            "27/27 [==============================] - 0s 6ms/step - loss: 0.6750 - accuracy: 0.5662 - val_loss: 0.6989 - val_accuracy: 0.5220\n",
            "Epoch 50/300\n",
            "27/27 [==============================] - 0s 7ms/step - loss: 0.6760 - accuracy: 0.5673 - val_loss: 0.7053 - val_accuracy: 0.5000\n",
            "Epoch 51/300\n",
            "27/27 [==============================] - 0s 6ms/step - loss: 0.6756 - accuracy: 0.5685 - val_loss: 0.7000 - val_accuracy: 0.5146\n",
            "Epoch 52/300\n",
            "27/27 [==============================] - 0s 7ms/step - loss: 0.6735 - accuracy: 0.5673 - val_loss: 0.6998 - val_accuracy: 0.5244\n",
            "Epoch 53/300\n",
            "27/27 [==============================] - 0s 7ms/step - loss: 0.6712 - accuracy: 0.5769 - val_loss: 0.7000 - val_accuracy: 0.5244\n",
            "Epoch 54/300\n",
            "27/27 [==============================] - 0s 7ms/step - loss: 0.6718 - accuracy: 0.5685 - val_loss: 0.6996 - val_accuracy: 0.5146\n",
            "Epoch 55/300\n",
            "27/27 [==============================] - 0s 6ms/step - loss: 0.6705 - accuracy: 0.5721 - val_loss: 0.7040 - val_accuracy: 0.5073\n",
            "Epoch 56/300\n",
            "27/27 [==============================] - 0s 6ms/step - loss: 0.6695 - accuracy: 0.5852 - val_loss: 0.7027 - val_accuracy: 0.5000\n",
            "Epoch 57/300\n",
            "27/27 [==============================] - 0s 6ms/step - loss: 0.6685 - accuracy: 0.5805 - val_loss: 0.7035 - val_accuracy: 0.4951\n",
            "Epoch 58/300\n",
            "27/27 [==============================] - 0s 6ms/step - loss: 0.6677 - accuracy: 0.5793 - val_loss: 0.6995 - val_accuracy: 0.5098\n",
            "Epoch 59/300\n",
            "27/27 [==============================] - 0s 6ms/step - loss: 0.6665 - accuracy: 0.5816 - val_loss: 0.7065 - val_accuracy: 0.4854\n",
            "Epoch 60/300\n",
            "27/27 [==============================] - 0s 6ms/step - loss: 0.6658 - accuracy: 0.5828 - val_loss: 0.7051 - val_accuracy: 0.4976\n",
            "Epoch 61/300\n",
            "27/27 [==============================] - 0s 6ms/step - loss: 0.6662 - accuracy: 0.5876 - val_loss: 0.7055 - val_accuracy: 0.5000\n",
            "Epoch 62/300\n",
            "27/27 [==============================] - 0s 6ms/step - loss: 0.6652 - accuracy: 0.5769 - val_loss: 0.7033 - val_accuracy: 0.5000\n",
            "Epoch 63/300\n",
            "27/27 [==============================] - 0s 7ms/step - loss: 0.6665 - accuracy: 0.5852 - val_loss: 0.7064 - val_accuracy: 0.4854\n",
            "Epoch 64/300\n",
            "27/27 [==============================] - 0s 7ms/step - loss: 0.6666 - accuracy: 0.5828 - val_loss: 0.7062 - val_accuracy: 0.5024\n",
            "Epoch 65/300\n",
            "27/27 [==============================] - 0s 6ms/step - loss: 0.6627 - accuracy: 0.5852 - val_loss: 0.7059 - val_accuracy: 0.5000\n",
            "Epoch 66/300\n",
            "27/27 [==============================] - 0s 6ms/step - loss: 0.6628 - accuracy: 0.5840 - val_loss: 0.7079 - val_accuracy: 0.4951\n",
            "Epoch 67/300\n",
            "27/27 [==============================] - 0s 8ms/step - loss: 0.6690 - accuracy: 0.5709 - val_loss: 0.7101 - val_accuracy: 0.4927\n",
            "Epoch 68/300\n",
            "27/27 [==============================] - 0s 6ms/step - loss: 0.6646 - accuracy: 0.5936 - val_loss: 0.7135 - val_accuracy: 0.4976\n",
            "Epoch 69/300\n",
            "27/27 [==============================] - 0s 7ms/step - loss: 0.6613 - accuracy: 0.5995 - val_loss: 0.7132 - val_accuracy: 0.4829\n",
            "Epoch 70/300\n",
            "27/27 [==============================] - 0s 8ms/step - loss: 0.6627 - accuracy: 0.5912 - val_loss: 0.7107 - val_accuracy: 0.4780\n",
            "Epoch 71/300\n",
            "27/27 [==============================] - 0s 7ms/step - loss: 0.6594 - accuracy: 0.5840 - val_loss: 0.7150 - val_accuracy: 0.4780\n",
            "Epoch 72/300\n",
            "27/27 [==============================] - 0s 6ms/step - loss: 0.6566 - accuracy: 0.5959 - val_loss: 0.7118 - val_accuracy: 0.4780\n",
            "Epoch 73/300\n",
            "27/27 [==============================] - 0s 6ms/step - loss: 0.6591 - accuracy: 0.5959 - val_loss: 0.7101 - val_accuracy: 0.4951\n",
            "Epoch 74/300\n",
            "27/27 [==============================] - 0s 6ms/step - loss: 0.6558 - accuracy: 0.5959 - val_loss: 0.7167 - val_accuracy: 0.4902\n",
            "Epoch 75/300\n",
            "27/27 [==============================] - 0s 8ms/step - loss: 0.6547 - accuracy: 0.6126 - val_loss: 0.7166 - val_accuracy: 0.4902\n",
            "Epoch 76/300\n",
            "27/27 [==============================] - 0s 6ms/step - loss: 0.6559 - accuracy: 0.6031 - val_loss: 0.7234 - val_accuracy: 0.4902\n",
            "Epoch 77/300\n",
            "27/27 [==============================] - 0s 6ms/step - loss: 0.6508 - accuracy: 0.5959 - val_loss: 0.7092 - val_accuracy: 0.4927\n",
            "Epoch 78/300\n",
            "27/27 [==============================] - 0s 6ms/step - loss: 0.6525 - accuracy: 0.5948 - val_loss: 0.7173 - val_accuracy: 0.4756\n",
            "Epoch 79/300\n",
            "27/27 [==============================] - 0s 6ms/step - loss: 0.6517 - accuracy: 0.6055 - val_loss: 0.7207 - val_accuracy: 0.4902\n",
            "Epoch 80/300\n",
            "27/27 [==============================] - 0s 6ms/step - loss: 0.6481 - accuracy: 0.6043 - val_loss: 0.7253 - val_accuracy: 0.4902\n",
            "Epoch 81/300\n",
            "27/27 [==============================] - 0s 6ms/step - loss: 0.6482 - accuracy: 0.5971 - val_loss: 0.7178 - val_accuracy: 0.4854\n",
            "Epoch 82/300\n",
            "27/27 [==============================] - 0s 7ms/step - loss: 0.6474 - accuracy: 0.6079 - val_loss: 0.7261 - val_accuracy: 0.4707\n",
            "Epoch 83/300\n",
            "27/27 [==============================] - 0s 8ms/step - loss: 0.6447 - accuracy: 0.6138 - val_loss: 0.7238 - val_accuracy: 0.4707\n",
            "Epoch 84/300\n",
            "27/27 [==============================] - 0s 7ms/step - loss: 0.6441 - accuracy: 0.6150 - val_loss: 0.7201 - val_accuracy: 0.4805\n",
            "Epoch 85/300\n",
            "27/27 [==============================] - 0s 8ms/step - loss: 0.6441 - accuracy: 0.6114 - val_loss: 0.7281 - val_accuracy: 0.4756\n",
            "Epoch 86/300\n",
            "27/27 [==============================] - 0s 7ms/step - loss: 0.6396 - accuracy: 0.6210 - val_loss: 0.7352 - val_accuracy: 0.4780\n",
            "Epoch 87/300\n",
            "27/27 [==============================] - 0s 7ms/step - loss: 0.6376 - accuracy: 0.6198 - val_loss: 0.7259 - val_accuracy: 0.4634\n",
            "Epoch 88/300\n",
            "27/27 [==============================] - 0s 6ms/step - loss: 0.6356 - accuracy: 0.6198 - val_loss: 0.7330 - val_accuracy: 0.4732\n",
            "Epoch 89/300\n",
            "27/27 [==============================] - 0s 7ms/step - loss: 0.6370 - accuracy: 0.6067 - val_loss: 0.7274 - val_accuracy: 0.4707\n",
            "Epoch 90/300\n",
            "27/27 [==============================] - 0s 6ms/step - loss: 0.6328 - accuracy: 0.6353 - val_loss: 0.7212 - val_accuracy: 0.4610\n",
            "Epoch 91/300\n",
            "27/27 [==============================] - 0s 8ms/step - loss: 0.6348 - accuracy: 0.6162 - val_loss: 0.7288 - val_accuracy: 0.4634\n",
            "Epoch 92/300\n",
            "27/27 [==============================] - 0s 6ms/step - loss: 0.6316 - accuracy: 0.6341 - val_loss: 0.7326 - val_accuracy: 0.4854\n",
            "Epoch 93/300\n",
            "27/27 [==============================] - 0s 7ms/step - loss: 0.6325 - accuracy: 0.6293 - val_loss: 0.7312 - val_accuracy: 0.4756\n",
            "Epoch 94/300\n",
            "27/27 [==============================] - 0s 6ms/step - loss: 0.6272 - accuracy: 0.6412 - val_loss: 0.7224 - val_accuracy: 0.4707\n",
            "Epoch 95/300\n",
            "27/27 [==============================] - 0s 6ms/step - loss: 0.6274 - accuracy: 0.6150 - val_loss: 0.7345 - val_accuracy: 0.4732\n",
            "Epoch 96/300\n",
            "27/27 [==============================] - 0s 7ms/step - loss: 0.6255 - accuracy: 0.6174 - val_loss: 0.7324 - val_accuracy: 0.4854\n",
            "Epoch 97/300\n",
            "27/27 [==============================] - 0s 8ms/step - loss: 0.6228 - accuracy: 0.6353 - val_loss: 0.7377 - val_accuracy: 0.4707\n",
            "Epoch 98/300\n",
            "27/27 [==============================] - 0s 7ms/step - loss: 0.6199 - accuracy: 0.6341 - val_loss: 0.7338 - val_accuracy: 0.4659\n",
            "Epoch 99/300\n",
            "27/27 [==============================] - 0s 6ms/step - loss: 0.6211 - accuracy: 0.6269 - val_loss: 0.7262 - val_accuracy: 0.4756\n",
            "Epoch 100/300\n",
            "27/27 [==============================] - 0s 7ms/step - loss: 0.6149 - accuracy: 0.6544 - val_loss: 0.7420 - val_accuracy: 0.4610\n",
            "Epoch 101/300\n",
            "27/27 [==============================] - 0s 6ms/step - loss: 0.6202 - accuracy: 0.6353 - val_loss: 0.7486 - val_accuracy: 0.4659\n",
            "Epoch 102/300\n",
            "27/27 [==============================] - 0s 8ms/step - loss: 0.6120 - accuracy: 0.6448 - val_loss: 0.7373 - val_accuracy: 0.4634\n",
            "Epoch 103/300\n",
            "27/27 [==============================] - 0s 6ms/step - loss: 0.6084 - accuracy: 0.6579 - val_loss: 0.7461 - val_accuracy: 0.4512\n",
            "Epoch 104/300\n",
            "27/27 [==============================] - 0s 7ms/step - loss: 0.6085 - accuracy: 0.6544 - val_loss: 0.7426 - val_accuracy: 0.4780\n",
            "Epoch 105/300\n",
            "27/27 [==============================] - 0s 7ms/step - loss: 0.6089 - accuracy: 0.6639 - val_loss: 0.7377 - val_accuracy: 0.4610\n",
            "Epoch 106/300\n",
            "27/27 [==============================] - 0s 7ms/step - loss: 0.6016 - accuracy: 0.6603 - val_loss: 0.7584 - val_accuracy: 0.4707\n",
            "Epoch 107/300\n",
            "27/27 [==============================] - 0s 7ms/step - loss: 0.5977 - accuracy: 0.6782 - val_loss: 0.7539 - val_accuracy: 0.4659\n",
            "Epoch 108/300\n",
            "27/27 [==============================] - 0s 7ms/step - loss: 0.5985 - accuracy: 0.6508 - val_loss: 0.7437 - val_accuracy: 0.4732\n",
            "Epoch 109/300\n",
            "27/27 [==============================] - 0s 7ms/step - loss: 0.5963 - accuracy: 0.6615 - val_loss: 0.7557 - val_accuracy: 0.4634\n",
            "Epoch 110/300\n",
            "27/27 [==============================] - 0s 6ms/step - loss: 0.5965 - accuracy: 0.6591 - val_loss: 0.7537 - val_accuracy: 0.4732\n",
            "Epoch 111/300\n",
            "27/27 [==============================] - 0s 6ms/step - loss: 0.5930 - accuracy: 0.6555 - val_loss: 0.7581 - val_accuracy: 0.4780\n",
            "Epoch 112/300\n",
            "27/27 [==============================] - 0s 6ms/step - loss: 0.5897 - accuracy: 0.6687 - val_loss: 0.7581 - val_accuracy: 0.4854\n",
            "Epoch 113/300\n",
            "27/27 [==============================] - 0s 6ms/step - loss: 0.5852 - accuracy: 0.6818 - val_loss: 0.7692 - val_accuracy: 0.4756\n",
            "Epoch 114/300\n",
            "27/27 [==============================] - 0s 6ms/step - loss: 0.5833 - accuracy: 0.6687 - val_loss: 0.7535 - val_accuracy: 0.4805\n",
            "Epoch 115/300\n",
            "27/27 [==============================] - 0s 6ms/step - loss: 0.5963 - accuracy: 0.6639 - val_loss: 0.7638 - val_accuracy: 0.4805\n",
            "Epoch 116/300\n",
            "27/27 [==============================] - 0s 6ms/step - loss: 0.5841 - accuracy: 0.6794 - val_loss: 0.7557 - val_accuracy: 0.4805\n",
            "Epoch 117/300\n",
            "27/27 [==============================] - 0s 6ms/step - loss: 0.5841 - accuracy: 0.6746 - val_loss: 0.7735 - val_accuracy: 0.4634\n",
            "Epoch 118/300\n",
            "27/27 [==============================] - 0s 6ms/step - loss: 0.5773 - accuracy: 0.6770 - val_loss: 0.7762 - val_accuracy: 0.4707\n",
            "Epoch 119/300\n",
            "27/27 [==============================] - 0s 8ms/step - loss: 0.5738 - accuracy: 0.6746 - val_loss: 0.7641 - val_accuracy: 0.4805\n",
            "Epoch 120/300\n",
            "27/27 [==============================] - 0s 7ms/step - loss: 0.5681 - accuracy: 0.6782 - val_loss: 0.7730 - val_accuracy: 0.4951\n",
            "Epoch 121/300\n",
            "27/27 [==============================] - 0s 6ms/step - loss: 0.5642 - accuracy: 0.6961 - val_loss: 0.7784 - val_accuracy: 0.4878\n",
            "Epoch 122/300\n",
            "27/27 [==============================] - 0s 6ms/step - loss: 0.5590 - accuracy: 0.6901 - val_loss: 0.7706 - val_accuracy: 0.5073\n",
            "Epoch 123/300\n",
            "27/27 [==============================] - 0s 6ms/step - loss: 0.5569 - accuracy: 0.7044 - val_loss: 0.7722 - val_accuracy: 0.4902\n",
            "Epoch 124/300\n",
            "27/27 [==============================] - 0s 7ms/step - loss: 0.5532 - accuracy: 0.6937 - val_loss: 0.7935 - val_accuracy: 0.5073\n",
            "Epoch 125/300\n",
            "27/27 [==============================] - 0s 6ms/step - loss: 0.5500 - accuracy: 0.7104 - val_loss: 0.7702 - val_accuracy: 0.5049\n",
            "Epoch 126/300\n",
            "27/27 [==============================] - 0s 7ms/step - loss: 0.5563 - accuracy: 0.7020 - val_loss: 0.7827 - val_accuracy: 0.4976\n",
            "Epoch 127/300\n",
            "27/27 [==============================] - 0s 7ms/step - loss: 0.5540 - accuracy: 0.6961 - val_loss: 0.7753 - val_accuracy: 0.4878\n",
            "Epoch 128/300\n",
            "27/27 [==============================] - 0s 6ms/step - loss: 0.5426 - accuracy: 0.7068 - val_loss: 0.7832 - val_accuracy: 0.5146\n",
            "Epoch 129/300\n",
            "27/27 [==============================] - 0s 6ms/step - loss: 0.5457 - accuracy: 0.6996 - val_loss: 0.7948 - val_accuracy: 0.5122\n",
            "Epoch 130/300\n",
            "27/27 [==============================] - 0s 7ms/step - loss: 0.5365 - accuracy: 0.7008 - val_loss: 0.7960 - val_accuracy: 0.4780\n",
            "Epoch 131/300\n",
            "27/27 [==============================] - 0s 6ms/step - loss: 0.5472 - accuracy: 0.6973 - val_loss: 0.7882 - val_accuracy: 0.4878\n",
            "Epoch 132/300\n",
            "27/27 [==============================] - 0s 7ms/step - loss: 0.5405 - accuracy: 0.7104 - val_loss: 0.7939 - val_accuracy: 0.4902\n",
            "Epoch 133/300\n",
            "27/27 [==============================] - 0s 6ms/step - loss: 0.5290 - accuracy: 0.7187 - val_loss: 0.8002 - val_accuracy: 0.5073\n",
            "Epoch 134/300\n",
            "27/27 [==============================] - 0s 6ms/step - loss: 0.5318 - accuracy: 0.7139 - val_loss: 0.8140 - val_accuracy: 0.4902\n",
            "Epoch 135/300\n",
            "27/27 [==============================] - 0s 6ms/step - loss: 0.5225 - accuracy: 0.7271 - val_loss: 0.8061 - val_accuracy: 0.4951\n",
            "Epoch 136/300\n",
            "27/27 [==============================] - 0s 6ms/step - loss: 0.5311 - accuracy: 0.7116 - val_loss: 0.7979 - val_accuracy: 0.4854\n",
            "Epoch 137/300\n",
            "27/27 [==============================] - 0s 7ms/step - loss: 0.5210 - accuracy: 0.7294 - val_loss: 0.8211 - val_accuracy: 0.5122\n",
            "Epoch 138/300\n",
            "27/27 [==============================] - 0s 6ms/step - loss: 0.5191 - accuracy: 0.7271 - val_loss: 0.8073 - val_accuracy: 0.4780\n",
            "Epoch 139/300\n",
            "27/27 [==============================] - 0s 7ms/step - loss: 0.5138 - accuracy: 0.7294 - val_loss: 0.8033 - val_accuracy: 0.4902\n",
            "Epoch 140/300\n",
            "27/27 [==============================] - 0s 8ms/step - loss: 0.5187 - accuracy: 0.7282 - val_loss: 0.8083 - val_accuracy: 0.4829\n",
            "Epoch 141/300\n",
            "27/27 [==============================] - 0s 8ms/step - loss: 0.5075 - accuracy: 0.7461 - val_loss: 0.8130 - val_accuracy: 0.5000\n",
            "Epoch 142/300\n",
            "27/27 [==============================] - 0s 6ms/step - loss: 0.5108 - accuracy: 0.7426 - val_loss: 0.8324 - val_accuracy: 0.5024\n",
            "Epoch 143/300\n",
            "27/27 [==============================] - 0s 7ms/step - loss: 0.5050 - accuracy: 0.7318 - val_loss: 0.8052 - val_accuracy: 0.4976\n",
            "Epoch 144/300\n",
            "27/27 [==============================] - 0s 6ms/step - loss: 0.5019 - accuracy: 0.7342 - val_loss: 0.8169 - val_accuracy: 0.5122\n",
            "Epoch 145/300\n",
            "27/27 [==============================] - 0s 6ms/step - loss: 0.4980 - accuracy: 0.7354 - val_loss: 0.8305 - val_accuracy: 0.4878\n",
            "Epoch 146/300\n",
            "27/27 [==============================] - 0s 7ms/step - loss: 0.4939 - accuracy: 0.7461 - val_loss: 0.8314 - val_accuracy: 0.4951\n",
            "Epoch 147/300\n",
            "27/27 [==============================] - 0s 8ms/step - loss: 0.4942 - accuracy: 0.7640 - val_loss: 0.8298 - val_accuracy: 0.5171\n",
            "Epoch 148/300\n",
            "27/27 [==============================] - 0s 6ms/step - loss: 0.4903 - accuracy: 0.7521 - val_loss: 0.8455 - val_accuracy: 0.4927\n",
            "Epoch 149/300\n",
            "27/27 [==============================] - 0s 6ms/step - loss: 0.4857 - accuracy: 0.7616 - val_loss: 0.8372 - val_accuracy: 0.4854\n",
            "Epoch 150/300\n",
            "27/27 [==============================] - 0s 8ms/step - loss: 0.4805 - accuracy: 0.7449 - val_loss: 0.8511 - val_accuracy: 0.5073\n",
            "Epoch 151/300\n",
            "27/27 [==============================] - 0s 6ms/step - loss: 0.4841 - accuracy: 0.7533 - val_loss: 0.8361 - val_accuracy: 0.5171\n",
            "Epoch 152/300\n",
            "27/27 [==============================] - 0s 7ms/step - loss: 0.4757 - accuracy: 0.7569 - val_loss: 0.8579 - val_accuracy: 0.5000\n",
            "Epoch 153/300\n",
            "27/27 [==============================] - 0s 6ms/step - loss: 0.4698 - accuracy: 0.7557 - val_loss: 0.8397 - val_accuracy: 0.4976\n",
            "Epoch 154/300\n",
            "27/27 [==============================] - 0s 6ms/step - loss: 0.4670 - accuracy: 0.7628 - val_loss: 0.8589 - val_accuracy: 0.4951\n",
            "Epoch 155/300\n",
            "27/27 [==============================] - 0s 8ms/step - loss: 0.4709 - accuracy: 0.7569 - val_loss: 0.8890 - val_accuracy: 0.5049\n",
            "Epoch 156/300\n",
            "27/27 [==============================] - 0s 8ms/step - loss: 0.4654 - accuracy: 0.7652 - val_loss: 0.8659 - val_accuracy: 0.5171\n",
            "Epoch 157/300\n",
            "27/27 [==============================] - 0s 8ms/step - loss: 0.4610 - accuracy: 0.7700 - val_loss: 0.8558 - val_accuracy: 0.5293\n",
            "Epoch 158/300\n",
            "27/27 [==============================] - 0s 8ms/step - loss: 0.4498 - accuracy: 0.7831 - val_loss: 0.8720 - val_accuracy: 0.5073\n",
            "Epoch 159/300\n",
            "27/27 [==============================] - 0s 8ms/step - loss: 0.4472 - accuracy: 0.7902 - val_loss: 0.8646 - val_accuracy: 0.5000\n",
            "Epoch 160/300\n",
            "27/27 [==============================] - 0s 7ms/step - loss: 0.4490 - accuracy: 0.7914 - val_loss: 0.8625 - val_accuracy: 0.5122\n",
            "Epoch 161/300\n",
            "27/27 [==============================] - 0s 8ms/step - loss: 0.4397 - accuracy: 0.7867 - val_loss: 0.8535 - val_accuracy: 0.5146\n",
            "Epoch 162/300\n",
            "27/27 [==============================] - 0s 7ms/step - loss: 0.4402 - accuracy: 0.7795 - val_loss: 0.8837 - val_accuracy: 0.5146\n",
            "Epoch 163/300\n",
            "27/27 [==============================] - 0s 6ms/step - loss: 0.4416 - accuracy: 0.7783 - val_loss: 0.8654 - val_accuracy: 0.5268\n",
            "Epoch 164/300\n",
            "27/27 [==============================] - 0s 6ms/step - loss: 0.4369 - accuracy: 0.7867 - val_loss: 0.8904 - val_accuracy: 0.5195\n",
            "Epoch 165/300\n",
            "27/27 [==============================] - 0s 7ms/step - loss: 0.4342 - accuracy: 0.7771 - val_loss: 0.8822 - val_accuracy: 0.5024\n",
            "Epoch 166/300\n",
            "27/27 [==============================] - 0s 7ms/step - loss: 0.4300 - accuracy: 0.7926 - val_loss: 0.9159 - val_accuracy: 0.5171\n",
            "Epoch 167/300\n",
            "27/27 [==============================] - 0s 6ms/step - loss: 0.4251 - accuracy: 0.8033 - val_loss: 0.8946 - val_accuracy: 0.5049\n",
            "Epoch 168/300\n",
            "27/27 [==============================] - 0s 8ms/step - loss: 0.4353 - accuracy: 0.7902 - val_loss: 0.9215 - val_accuracy: 0.5195\n",
            "Epoch 169/300\n",
            "27/27 [==============================] - 0s 6ms/step - loss: 0.4267 - accuracy: 0.7890 - val_loss: 0.8805 - val_accuracy: 0.5098\n",
            "Epoch 170/300\n",
            "27/27 [==============================] - 0s 6ms/step - loss: 0.4106 - accuracy: 0.8033 - val_loss: 0.9210 - val_accuracy: 0.5000\n",
            "Epoch 171/300\n",
            "27/27 [==============================] - 0s 6ms/step - loss: 0.4088 - accuracy: 0.7974 - val_loss: 0.9009 - val_accuracy: 0.5098\n",
            "Epoch 172/300\n",
            "27/27 [==============================] - 0s 8ms/step - loss: 0.4073 - accuracy: 0.7998 - val_loss: 0.9443 - val_accuracy: 0.5049\n",
            "Epoch 173/300\n",
            "27/27 [==============================] - 0s 6ms/step - loss: 0.4011 - accuracy: 0.8093 - val_loss: 0.9279 - val_accuracy: 0.5098\n",
            "Epoch 174/300\n",
            "27/27 [==============================] - 0s 8ms/step - loss: 0.4090 - accuracy: 0.7878 - val_loss: 0.9235 - val_accuracy: 0.4927\n",
            "Epoch 175/300\n",
            "27/27 [==============================] - 0s 6ms/step - loss: 0.4104 - accuracy: 0.8045 - val_loss: 0.9114 - val_accuracy: 0.5293\n",
            "Epoch 176/300\n",
            "27/27 [==============================] - 0s 7ms/step - loss: 0.3928 - accuracy: 0.8141 - val_loss: 0.9128 - val_accuracy: 0.5049\n",
            "Epoch 177/300\n",
            "27/27 [==============================] - 0s 8ms/step - loss: 0.3959 - accuracy: 0.8200 - val_loss: 0.9516 - val_accuracy: 0.5195\n",
            "Epoch 178/300\n",
            "27/27 [==============================] - 0s 7ms/step - loss: 0.3923 - accuracy: 0.8117 - val_loss: 0.9229 - val_accuracy: 0.4976\n",
            "Epoch 179/300\n",
            "27/27 [==============================] - 0s 6ms/step - loss: 0.3959 - accuracy: 0.8045 - val_loss: 0.9444 - val_accuracy: 0.5195\n",
            "Epoch 180/300\n",
            "27/27 [==============================] - 0s 6ms/step - loss: 0.3897 - accuracy: 0.8105 - val_loss: 0.9232 - val_accuracy: 0.5122\n",
            "Epoch 181/300\n",
            "27/27 [==============================] - 0s 6ms/step - loss: 0.3915 - accuracy: 0.8069 - val_loss: 0.9058 - val_accuracy: 0.5098\n",
            "Epoch 182/300\n",
            "27/27 [==============================] - 0s 6ms/step - loss: 0.3760 - accuracy: 0.8331 - val_loss: 0.9594 - val_accuracy: 0.5098\n",
            "Epoch 183/300\n",
            "27/27 [==============================] - 0s 7ms/step - loss: 0.3702 - accuracy: 0.8272 - val_loss: 0.9381 - val_accuracy: 0.5024\n",
            "Epoch 184/300\n",
            "27/27 [==============================] - 0s 6ms/step - loss: 0.3643 - accuracy: 0.8284 - val_loss: 0.9352 - val_accuracy: 0.5049\n",
            "Epoch 185/300\n",
            "27/27 [==============================] - 0s 6ms/step - loss: 0.3750 - accuracy: 0.8224 - val_loss: 0.9642 - val_accuracy: 0.5122\n",
            "Epoch 186/300\n",
            "27/27 [==============================] - 0s 6ms/step - loss: 0.4169 - accuracy: 0.8093 - val_loss: 0.9610 - val_accuracy: 0.5171\n",
            "Epoch 187/300\n",
            "27/27 [==============================] - 0s 7ms/step - loss: 0.3708 - accuracy: 0.8296 - val_loss: 0.9384 - val_accuracy: 0.4902\n",
            "Epoch 188/300\n",
            "27/27 [==============================] - 0s 7ms/step - loss: 0.3656 - accuracy: 0.8224 - val_loss: 0.9823 - val_accuracy: 0.5244\n",
            "Epoch 189/300\n",
            "27/27 [==============================] - 0s 7ms/step - loss: 0.3601 - accuracy: 0.8308 - val_loss: 0.9848 - val_accuracy: 0.5146\n",
            "Epoch 190/300\n",
            "27/27 [==============================] - 0s 6ms/step - loss: 0.3522 - accuracy: 0.8355 - val_loss: 1.0042 - val_accuracy: 0.4976\n",
            "Epoch 191/300\n",
            "27/27 [==============================] - 0s 7ms/step - loss: 0.3503 - accuracy: 0.8331 - val_loss: 0.9642 - val_accuracy: 0.5000\n",
            "Epoch 192/300\n",
            "27/27 [==============================] - 0s 8ms/step - loss: 0.3380 - accuracy: 0.8474 - val_loss: 1.0187 - val_accuracy: 0.5195\n",
            "Epoch 193/300\n",
            "27/27 [==============================] - 0s 8ms/step - loss: 0.3443 - accuracy: 0.8486 - val_loss: 0.9846 - val_accuracy: 0.5049\n",
            "Epoch 194/300\n",
            "27/27 [==============================] - 0s 7ms/step - loss: 0.3431 - accuracy: 0.8451 - val_loss: 0.9916 - val_accuracy: 0.5024\n",
            "Epoch 195/300\n",
            "27/27 [==============================] - 0s 8ms/step - loss: 0.3317 - accuracy: 0.8451 - val_loss: 1.0594 - val_accuracy: 0.4878\n",
            "Epoch 196/300\n",
            "27/27 [==============================] - 0s 6ms/step - loss: 0.3400 - accuracy: 0.8403 - val_loss: 1.0130 - val_accuracy: 0.5073\n",
            "Epoch 197/300\n",
            "27/27 [==============================] - 0s 6ms/step - loss: 0.3441 - accuracy: 0.8439 - val_loss: 1.0248 - val_accuracy: 0.5146\n",
            "Epoch 198/300\n",
            "27/27 [==============================] - 0s 6ms/step - loss: 0.3549 - accuracy: 0.8319 - val_loss: 1.0535 - val_accuracy: 0.5073\n",
            "Epoch 199/300\n",
            "27/27 [==============================] - 0s 7ms/step - loss: 0.3281 - accuracy: 0.8522 - val_loss: 1.0333 - val_accuracy: 0.5098\n",
            "Epoch 200/300\n",
            "27/27 [==============================] - 0s 6ms/step - loss: 0.3246 - accuracy: 0.8498 - val_loss: 1.0424 - val_accuracy: 0.5049\n",
            "Epoch 201/300\n",
            "27/27 [==============================] - 0s 6ms/step - loss: 0.3252 - accuracy: 0.8534 - val_loss: 1.0468 - val_accuracy: 0.5171\n",
            "Epoch 202/300\n",
            "27/27 [==============================] - 0s 7ms/step - loss: 0.3214 - accuracy: 0.8534 - val_loss: 1.0126 - val_accuracy: 0.5000\n",
            "Epoch 203/300\n",
            "27/27 [==============================] - 0s 8ms/step - loss: 0.3146 - accuracy: 0.8546 - val_loss: 1.0218 - val_accuracy: 0.5146\n",
            "Epoch 204/300\n",
            "27/27 [==============================] - 0s 8ms/step - loss: 0.3058 - accuracy: 0.8629 - val_loss: 1.0798 - val_accuracy: 0.5049\n",
            "Epoch 205/300\n",
            "27/27 [==============================] - 0s 8ms/step - loss: 0.3063 - accuracy: 0.8558 - val_loss: 1.0312 - val_accuracy: 0.5073\n",
            "Epoch 206/300\n",
            "27/27 [==============================] - 0s 8ms/step - loss: 0.3029 - accuracy: 0.8665 - val_loss: 1.0975 - val_accuracy: 0.5073\n",
            "Epoch 207/300\n",
            "27/27 [==============================] - 0s 6ms/step - loss: 0.3113 - accuracy: 0.8570 - val_loss: 1.0489 - val_accuracy: 0.5171\n",
            "Epoch 208/300\n",
            "27/27 [==============================] - 0s 8ms/step - loss: 0.3169 - accuracy: 0.8451 - val_loss: 1.0592 - val_accuracy: 0.5049\n",
            "Epoch 209/300\n",
            "27/27 [==============================] - 0s 6ms/step - loss: 0.3117 - accuracy: 0.8570 - val_loss: 1.1101 - val_accuracy: 0.5049\n",
            "Epoch 210/300\n",
            "27/27 [==============================] - 0s 6ms/step - loss: 0.3024 - accuracy: 0.8629 - val_loss: 1.0344 - val_accuracy: 0.4976\n",
            "Epoch 211/300\n",
            "27/27 [==============================] - 0s 6ms/step - loss: 0.2905 - accuracy: 0.8665 - val_loss: 1.0916 - val_accuracy: 0.4707\n",
            "Epoch 212/300\n",
            "27/27 [==============================] - 0s 6ms/step - loss: 0.2956 - accuracy: 0.8546 - val_loss: 1.0925 - val_accuracy: 0.4829\n",
            "Epoch 213/300\n",
            "27/27 [==============================] - 0s 6ms/step - loss: 0.2943 - accuracy: 0.8701 - val_loss: 1.0890 - val_accuracy: 0.5073\n",
            "Epoch 214/300\n",
            "27/27 [==============================] - 0s 6ms/step - loss: 0.2922 - accuracy: 0.8737 - val_loss: 1.0795 - val_accuracy: 0.5146\n",
            "Epoch 215/300\n",
            "27/27 [==============================] - 0s 6ms/step - loss: 0.2901 - accuracy: 0.8653 - val_loss: 1.0656 - val_accuracy: 0.4902\n",
            "Epoch 216/300\n",
            "27/27 [==============================] - 0s 7ms/step - loss: 0.2901 - accuracy: 0.8641 - val_loss: 1.0684 - val_accuracy: 0.5146\n",
            "Epoch 217/300\n",
            "27/27 [==============================] - 0s 8ms/step - loss: 0.2762 - accuracy: 0.8725 - val_loss: 1.1286 - val_accuracy: 0.5024\n",
            "Epoch 218/300\n",
            "27/27 [==============================] - 0s 8ms/step - loss: 0.2812 - accuracy: 0.8713 - val_loss: 1.0948 - val_accuracy: 0.5195\n",
            "Epoch 219/300\n",
            "27/27 [==============================] - 0s 8ms/step - loss: 0.2695 - accuracy: 0.8713 - val_loss: 1.1367 - val_accuracy: 0.5024\n",
            "Epoch 220/300\n",
            "27/27 [==============================] - 0s 6ms/step - loss: 0.2756 - accuracy: 0.8772 - val_loss: 1.1398 - val_accuracy: 0.5024\n",
            "Epoch 221/300\n",
            "27/27 [==============================] - 0s 6ms/step - loss: 0.2694 - accuracy: 0.8784 - val_loss: 1.0981 - val_accuracy: 0.5073\n",
            "Epoch 222/300\n",
            "27/27 [==============================] - 0s 6ms/step - loss: 0.2678 - accuracy: 0.8808 - val_loss: 1.1458 - val_accuracy: 0.5024\n",
            "Epoch 223/300\n",
            "27/27 [==============================] - 0s 7ms/step - loss: 0.2642 - accuracy: 0.8832 - val_loss: 1.1344 - val_accuracy: 0.5122\n",
            "Epoch 224/300\n",
            "27/27 [==============================] - 0s 8ms/step - loss: 0.2636 - accuracy: 0.8749 - val_loss: 1.1051 - val_accuracy: 0.5146\n",
            "Epoch 225/300\n",
            "27/27 [==============================] - 0s 8ms/step - loss: 0.2646 - accuracy: 0.8892 - val_loss: 1.1187 - val_accuracy: 0.5049\n",
            "Epoch 226/300\n",
            "27/27 [==============================] - 0s 6ms/step - loss: 0.2633 - accuracy: 0.8820 - val_loss: 1.1515 - val_accuracy: 0.5000\n",
            "Epoch 227/300\n",
            "27/27 [==============================] - 0s 8ms/step - loss: 0.2567 - accuracy: 0.8772 - val_loss: 1.1227 - val_accuracy: 0.5146\n",
            "Epoch 228/300\n",
            "27/27 [==============================] - 0s 7ms/step - loss: 0.2615 - accuracy: 0.8844 - val_loss: 1.1405 - val_accuracy: 0.5171\n",
            "Epoch 229/300\n",
            "27/27 [==============================] - 0s 8ms/step - loss: 0.2627 - accuracy: 0.8880 - val_loss: 1.1400 - val_accuracy: 0.5122\n",
            "Epoch 230/300\n",
            "27/27 [==============================] - 0s 6ms/step - loss: 0.2514 - accuracy: 0.8844 - val_loss: 1.1328 - val_accuracy: 0.5268\n",
            "Epoch 231/300\n",
            "27/27 [==============================] - 0s 6ms/step - loss: 0.2918 - accuracy: 0.8629 - val_loss: 1.0960 - val_accuracy: 0.5317\n",
            "Epoch 232/300\n",
            "27/27 [==============================] - 0s 6ms/step - loss: 0.2692 - accuracy: 0.8737 - val_loss: 1.1060 - val_accuracy: 0.5146\n",
            "Epoch 233/300\n",
            "27/27 [==============================] - 0s 7ms/step - loss: 0.2480 - accuracy: 0.8903 - val_loss: 1.1912 - val_accuracy: 0.5098\n",
            "Epoch 234/300\n",
            "27/27 [==============================] - 0s 7ms/step - loss: 0.2466 - accuracy: 0.8939 - val_loss: 1.2339 - val_accuracy: 0.5220\n",
            "Epoch 235/300\n",
            "27/27 [==============================] - 0s 8ms/step - loss: 0.2401 - accuracy: 0.8939 - val_loss: 1.2078 - val_accuracy: 0.5049\n",
            "Epoch 236/300\n",
            "27/27 [==============================] - 0s 6ms/step - loss: 0.2358 - accuracy: 0.8927 - val_loss: 1.2074 - val_accuracy: 0.5024\n",
            "Epoch 237/300\n",
            "27/27 [==============================] - 0s 6ms/step - loss: 0.2303 - accuracy: 0.9023 - val_loss: 1.2227 - val_accuracy: 0.5024\n",
            "Epoch 238/300\n",
            "27/27 [==============================] - 0s 8ms/step - loss: 0.2319 - accuracy: 0.9035 - val_loss: 1.1835 - val_accuracy: 0.5195\n",
            "Epoch 239/300\n",
            "27/27 [==============================] - 0s 7ms/step - loss: 0.2320 - accuracy: 0.9011 - val_loss: 1.2655 - val_accuracy: 0.5122\n",
            "Epoch 240/300\n",
            "27/27 [==============================] - 0s 8ms/step - loss: 0.2306 - accuracy: 0.8903 - val_loss: 1.1809 - val_accuracy: 0.5171\n",
            "Epoch 241/300\n",
            "27/27 [==============================] - 0s 6ms/step - loss: 0.2231 - accuracy: 0.9011 - val_loss: 1.2459 - val_accuracy: 0.5171\n",
            "Epoch 242/300\n",
            "27/27 [==============================] - 0s 6ms/step - loss: 0.2294 - accuracy: 0.8939 - val_loss: 1.2645 - val_accuracy: 0.5122\n",
            "Epoch 243/300\n",
            "27/27 [==============================] - 0s 6ms/step - loss: 0.2211 - accuracy: 0.9035 - val_loss: 1.2231 - val_accuracy: 0.5146\n",
            "Epoch 244/300\n",
            "27/27 [==============================] - 0s 6ms/step - loss: 0.2275 - accuracy: 0.9011 - val_loss: 1.2068 - val_accuracy: 0.5122\n",
            "Epoch 245/300\n",
            "27/27 [==============================] - 0s 6ms/step - loss: 0.2303 - accuracy: 0.8927 - val_loss: 1.2805 - val_accuracy: 0.4951\n",
            "Epoch 246/300\n",
            "27/27 [==============================] - 0s 8ms/step - loss: 0.2249 - accuracy: 0.9070 - val_loss: 1.2556 - val_accuracy: 0.5073\n",
            "Epoch 247/300\n",
            "27/27 [==============================] - 0s 6ms/step - loss: 0.2152 - accuracy: 0.9082 - val_loss: 1.3040 - val_accuracy: 0.5073\n",
            "Epoch 248/300\n",
            "27/27 [==============================] - 0s 8ms/step - loss: 0.2177 - accuracy: 0.9082 - val_loss: 1.2998 - val_accuracy: 0.5073\n",
            "Epoch 249/300\n",
            "27/27 [==============================] - 0s 8ms/step - loss: 0.2442 - accuracy: 0.8856 - val_loss: 1.2900 - val_accuracy: 0.5317\n",
            "Epoch 250/300\n",
            "27/27 [==============================] - 0s 6ms/step - loss: 0.2239 - accuracy: 0.9023 - val_loss: 1.2290 - val_accuracy: 0.5220\n",
            "Epoch 251/300\n",
            "27/27 [==============================] - 0s 6ms/step - loss: 0.2415 - accuracy: 0.8880 - val_loss: 1.3014 - val_accuracy: 0.5073\n",
            "Epoch 252/300\n",
            "27/27 [==============================] - 0s 7ms/step - loss: 0.2965 - accuracy: 0.8737 - val_loss: 1.3248 - val_accuracy: 0.5098\n",
            "Epoch 253/300\n",
            "27/27 [==============================] - 0s 6ms/step - loss: 0.2741 - accuracy: 0.8749 - val_loss: 1.2812 - val_accuracy: 0.5122\n",
            "Epoch 254/300\n",
            "27/27 [==============================] - 0s 7ms/step - loss: 0.2675 - accuracy: 0.8927 - val_loss: 1.3153 - val_accuracy: 0.5317\n",
            "Epoch 255/300\n",
            "27/27 [==============================] - 0s 6ms/step - loss: 0.2430 - accuracy: 0.9023 - val_loss: 1.2836 - val_accuracy: 0.5073\n",
            "Epoch 256/300\n",
            "27/27 [==============================] - 0s 7ms/step - loss: 0.2136 - accuracy: 0.9094 - val_loss: 1.3068 - val_accuracy: 0.5122\n",
            "Epoch 257/300\n",
            "27/27 [==============================] - 0s 8ms/step - loss: 0.2031 - accuracy: 0.9213 - val_loss: 1.3104 - val_accuracy: 0.5049\n",
            "Epoch 258/300\n",
            "27/27 [==============================] - 0s 7ms/step - loss: 0.2098 - accuracy: 0.9249 - val_loss: 1.3139 - val_accuracy: 0.5195\n",
            "Epoch 259/300\n",
            "27/27 [==============================] - 0s 8ms/step - loss: 0.2027 - accuracy: 0.9154 - val_loss: 1.3015 - val_accuracy: 0.5244\n",
            "Epoch 260/300\n",
            "27/27 [==============================] - 0s 6ms/step - loss: 0.1963 - accuracy: 0.9213 - val_loss: 1.3472 - val_accuracy: 0.5000\n",
            "Epoch 261/300\n",
            "27/27 [==============================] - 0s 8ms/step - loss: 0.1972 - accuracy: 0.9190 - val_loss: 1.3286 - val_accuracy: 0.5049\n",
            "Epoch 262/300\n",
            "27/27 [==============================] - 0s 8ms/step - loss: 0.1912 - accuracy: 0.9213 - val_loss: 1.3083 - val_accuracy: 0.5098\n",
            "Epoch 263/300\n",
            "27/27 [==============================] - 0s 6ms/step - loss: 0.1908 - accuracy: 0.9249 - val_loss: 1.3379 - val_accuracy: 0.5098\n",
            "Epoch 264/300\n",
            "27/27 [==============================] - 0s 8ms/step - loss: 0.1911 - accuracy: 0.9273 - val_loss: 1.4236 - val_accuracy: 0.5171\n",
            "Epoch 265/300\n",
            "27/27 [==============================] - 0s 6ms/step - loss: 0.2058 - accuracy: 0.9106 - val_loss: 1.3648 - val_accuracy: 0.4976\n",
            "Epoch 266/300\n",
            "27/27 [==============================] - 0s 7ms/step - loss: 0.1880 - accuracy: 0.9213 - val_loss: 1.3983 - val_accuracy: 0.5293\n",
            "Epoch 267/300\n",
            "27/27 [==============================] - 0s 7ms/step - loss: 0.1944 - accuracy: 0.9213 - val_loss: 1.3017 - val_accuracy: 0.5098\n",
            "Epoch 268/300\n",
            "27/27 [==============================] - 0s 8ms/step - loss: 0.1925 - accuracy: 0.9178 - val_loss: 1.4116 - val_accuracy: 0.5244\n",
            "Epoch 269/300\n",
            "27/27 [==============================] - 0s 7ms/step - loss: 0.1927 - accuracy: 0.9142 - val_loss: 1.4043 - val_accuracy: 0.4902\n",
            "Epoch 270/300\n",
            "27/27 [==============================] - 0s 6ms/step - loss: 0.1843 - accuracy: 0.9166 - val_loss: 1.3636 - val_accuracy: 0.5171\n",
            "Epoch 271/300\n",
            "27/27 [==============================] - 0s 6ms/step - loss: 0.1777 - accuracy: 0.9309 - val_loss: 1.4510 - val_accuracy: 0.5122\n",
            "Epoch 272/300\n",
            "27/27 [==============================] - 0s 6ms/step - loss: 0.1839 - accuracy: 0.9154 - val_loss: 1.3589 - val_accuracy: 0.5146\n",
            "Epoch 273/300\n",
            "27/27 [==============================] - 0s 6ms/step - loss: 0.1788 - accuracy: 0.9261 - val_loss: 1.4141 - val_accuracy: 0.5195\n",
            "Epoch 274/300\n",
            "27/27 [==============================] - 0s 8ms/step - loss: 0.1837 - accuracy: 0.9261 - val_loss: 1.4906 - val_accuracy: 0.4927\n",
            "Epoch 275/300\n",
            "27/27 [==============================] - 0s 6ms/step - loss: 0.1833 - accuracy: 0.9273 - val_loss: 1.4372 - val_accuracy: 0.5024\n",
            "Epoch 276/300\n",
            "27/27 [==============================] - 0s 6ms/step - loss: 0.2216 - accuracy: 0.9082 - val_loss: 1.4673 - val_accuracy: 0.4805\n",
            "Epoch 277/300\n",
            "27/27 [==============================] - 0s 8ms/step - loss: 0.1953 - accuracy: 0.9178 - val_loss: 1.4886 - val_accuracy: 0.5244\n",
            "Epoch 278/300\n",
            "27/27 [==============================] - 0s 6ms/step - loss: 0.1793 - accuracy: 0.9190 - val_loss: 1.4306 - val_accuracy: 0.5244\n",
            "Epoch 279/300\n",
            "27/27 [==============================] - 0s 6ms/step - loss: 0.1816 - accuracy: 0.9297 - val_loss: 1.4340 - val_accuracy: 0.5317\n",
            "Epoch 280/300\n",
            "27/27 [==============================] - 0s 7ms/step - loss: 0.1856 - accuracy: 0.9190 - val_loss: 1.4362 - val_accuracy: 0.5073\n",
            "Epoch 281/300\n",
            "27/27 [==============================] - 0s 8ms/step - loss: 0.1704 - accuracy: 0.9201 - val_loss: 1.4073 - val_accuracy: 0.5146\n",
            "Epoch 282/300\n",
            "27/27 [==============================] - 0s 7ms/step - loss: 0.1693 - accuracy: 0.9297 - val_loss: 1.4778 - val_accuracy: 0.5024\n",
            "Epoch 283/300\n",
            "27/27 [==============================] - 0s 6ms/step - loss: 0.1648 - accuracy: 0.9309 - val_loss: 1.4501 - val_accuracy: 0.5122\n",
            "Epoch 284/300\n",
            "27/27 [==============================] - 0s 9ms/step - loss: 0.1652 - accuracy: 0.9285 - val_loss: 1.4595 - val_accuracy: 0.5293\n",
            "Epoch 285/300\n",
            "27/27 [==============================] - 0s 8ms/step - loss: 0.1706 - accuracy: 0.9237 - val_loss: 1.4463 - val_accuracy: 0.5098\n",
            "Epoch 286/300\n",
            "27/27 [==============================] - 0s 6ms/step - loss: 0.1729 - accuracy: 0.9225 - val_loss: 1.4995 - val_accuracy: 0.5146\n",
            "Epoch 287/300\n",
            "27/27 [==============================] - 0s 8ms/step - loss: 0.1628 - accuracy: 0.9321 - val_loss: 1.4407 - val_accuracy: 0.5244\n",
            "Epoch 288/300\n",
            "27/27 [==============================] - 0s 6ms/step - loss: 0.1632 - accuracy: 0.9261 - val_loss: 1.5144 - val_accuracy: 0.5024\n",
            "Epoch 289/300\n",
            "27/27 [==============================] - 0s 6ms/step - loss: 0.1635 - accuracy: 0.9285 - val_loss: 1.5505 - val_accuracy: 0.5049\n",
            "Epoch 290/300\n",
            "27/27 [==============================] - 0s 7ms/step - loss: 0.1594 - accuracy: 0.9273 - val_loss: 1.5234 - val_accuracy: 0.5146\n",
            "Epoch 291/300\n",
            "27/27 [==============================] - 0s 8ms/step - loss: 0.1583 - accuracy: 0.9392 - val_loss: 1.4633 - val_accuracy: 0.5049\n",
            "Epoch 292/300\n",
            "27/27 [==============================] - 0s 7ms/step - loss: 0.1528 - accuracy: 0.9416 - val_loss: 1.5498 - val_accuracy: 0.5049\n",
            "Epoch 293/300\n",
            "27/27 [==============================] - 0s 8ms/step - loss: 0.1573 - accuracy: 0.9392 - val_loss: 1.5732 - val_accuracy: 0.5268\n",
            "Epoch 294/300\n",
            "27/27 [==============================] - 0s 8ms/step - loss: 0.1644 - accuracy: 0.9309 - val_loss: 1.5054 - val_accuracy: 0.5171\n",
            "Epoch 295/300\n",
            "27/27 [==============================] - 0s 6ms/step - loss: 0.1536 - accuracy: 0.9428 - val_loss: 1.5074 - val_accuracy: 0.5098\n",
            "Epoch 296/300\n",
            "27/27 [==============================] - 0s 8ms/step - loss: 0.1510 - accuracy: 0.9392 - val_loss: 1.5148 - val_accuracy: 0.5073\n",
            "Epoch 297/300\n",
            "27/27 [==============================] - 0s 7ms/step - loss: 0.1573 - accuracy: 0.9333 - val_loss: 1.4791 - val_accuracy: 0.5073\n",
            "Epoch 298/300\n",
            "27/27 [==============================] - 0s 6ms/step - loss: 0.1506 - accuracy: 0.9416 - val_loss: 1.6266 - val_accuracy: 0.5098\n",
            "Epoch 299/300\n",
            "27/27 [==============================] - 0s 7ms/step - loss: 0.1525 - accuracy: 0.9344 - val_loss: 1.6801 - val_accuracy: 0.5195\n",
            "Epoch 300/300\n",
            "27/27 [==============================] - 0s 6ms/step - loss: 0.1684 - accuracy: 0.9213 - val_loss: 1.4868 - val_accuracy: 0.5024\n"
          ]
        }
      ]
    },
    {
      "cell_type": "code",
      "source": [
        "plt.plot(r.history['loss'], label='loss')\n",
        "plt.plot(r.history['val_loss'], label='val_loss')\n",
        "plt.legend()"
      ],
      "metadata": {
        "colab": {
          "base_uri": "https://localhost:8080/",
          "height": 282
        },
        "id": "dOTiYRhDAkJz",
        "outputId": "27888922-6464-4d2a-af9e-7050aee59039"
      },
      "execution_count": 95,
      "outputs": [
        {
          "output_type": "execute_result",
          "data": {
            "text/plain": [
              "<matplotlib.legend.Legend at 0x7f9540061410>"
            ]
          },
          "metadata": {},
          "execution_count": 95
        },
        {
          "output_type": "display_data",
          "data": {
            "text/plain": [
              "<Figure size 432x288 with 1 Axes>"
            ],
            "image/png": "[encoded data removed]"
          },
          "metadata": {
            "needs_background": "light"
          }
        }
      ]
    },
    {
      "cell_type": "code",
      "source": [
        "plt.plot(r.history['accuracy'], label='accuracy')\n",
        "plt.plot(r.history['val_accuracy'], label='val_accuracy')\n",
        "plt.legend()"
      ],
      "metadata": {
        "colab": {
          "base_uri": "https://localhost:8080/",
          "height": 282
        },
        "id": "SM8Ob9A6A3To",
        "outputId": "29c630e9-a596-4f3a-d5e6-983744c63f7a"
      },
      "execution_count": 96,
      "outputs": [
        {
          "output_type": "execute_result",
          "data": {
            "text/plain": [
              "<matplotlib.legend.Legend at 0x7f953e65db10>"
            ]
          },
          "metadata": {},
          "execution_count": 96
        },
        {
          "output_type": "display_data",
          "data": {
            "text/plain": [
              "<Figure size 432x288 with 1 Axes>"
            ],
            "image/png": "[encoded data removed]"
          },
          "metadata": {
            "needs_background": "light"
          }
        }
      ]
    }
  ]
}